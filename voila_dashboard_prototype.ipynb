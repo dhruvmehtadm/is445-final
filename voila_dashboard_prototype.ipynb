{
 "cells": [
  {
   "cell_type": "code",
   "execution_count": 107,
   "id": "8ae7259c",
   "metadata": {
    "extensions": {
     "jupyter_dashboards": {
      "version": 1,
      "views": {
       "default_view": {
        "hidden": true
       }
      }
     }
    }
   },
   "outputs": [],
   "source": [
    "# !pip install voila"
   ]
  },
  {
   "cell_type": "markdown",
   "id": "1decb2a3",
   "metadata": {
    "extensions": {
     "jupyter_dashboards": {
      "version": 1,
      "views": {
       "default_view": {
        "col": 0,
        "height": 4,
        "row": 0,
        "width": 12
       }
      }
     }
    }
   },
   "source": [
    "<center><img src=\"formula-1-logo-5-3.png\" width=\"400\"/></center>"
   ]
  },
  {
   "cell_type": "code",
   "execution_count": 108,
   "id": "a34c7d2e",
   "metadata": {
    "extensions": {
     "jupyter_dashboards": {
      "version": 1,
      "views": {
       "default_view": {
        "hidden": true
       }
      }
     }
    }
   },
   "outputs": [],
   "source": [
    "import os\n",
    "import numpy as np\n",
    "import pandas as pd\n",
    "import matplotlib.pyplot as plt\n",
    "from datetime import datetime\n",
    "\n",
    "import warnings\n",
    "warnings.filterwarnings(\"ignore\")\n",
    "\n",
    "data_path = \"/data\""
   ]
  },
  {
   "cell_type": "code",
   "execution_count": 109,
   "id": "d7bd6096",
   "metadata": {
    "extensions": {
     "jupyter_dashboards": {
      "version": 1,
      "views": {
       "default_view": {
        "hidden": true
       }
      }
     }
    }
   },
   "outputs": [],
   "source": [
    "# List all available data files\n",
    "# for file in os.listdir(data_path):\n",
    "#     print(file)"
   ]
  },
  {
   "cell_type": "code",
   "execution_count": 110,
   "id": "03eae80f",
   "metadata": {
    "extensions": {
     "jupyter_dashboards": {
      "version": 1,
      "views": {
       "default_view": {
        "hidden": true
       }
      }
     }
    }
   },
   "outputs": [],
   "source": [
    "# Dataset Exploration\n",
    "# List all the columns in each file\n",
    "\n",
    "files_and_columns = {}\n",
    "for file in os.listdir(data_path):\n",
    "    df = pd.read_csv(os.path.join(data_path, file))\n",
    "    files_and_columns[file] = list(df.columns)"
   ]
  },
  {
   "cell_type": "code",
   "execution_count": 111,
   "id": "cc466631",
   "metadata": {
    "extensions": {
     "jupyter_dashboards": {
      "version": 1,
      "views": {
       "default_view": {
        "hidden": true
       }
      }
     }
    }
   },
   "outputs": [],
   "source": [
    "df_status = pd.read_csv(os.path.join(data_path, \"status.csv\"))\n",
    "df_laptimes = pd.read_csv(os.path.join(data_path, \"lap_times.csv\"))\n",
    "df_drivers = pd.read_csv(os.path.join(data_path, \"drivers.csv\"))\n",
    "df_races = pd.read_csv(os.path.join(data_path, \"races.csv\"))\n",
    "df_standings = pd.read_csv(os.path.join(data_path, \"driver_standings.csv\"))"
   ]
  },
  {
   "cell_type": "code",
   "execution_count": 112,
   "id": "0fc8af30",
   "metadata": {
    "extensions": {
     "jupyter_dashboards": {
      "version": 1,
      "views": {
       "default_view": {
        "hidden": true
       }
      }
     }
    }
   },
   "outputs": [],
   "source": [
    "# make a column with driver full name (merge first and last name)\n",
    "df_drivers[\"full_name\"] = \"\"\n",
    "\n",
    "for i in df_drivers.index:\n",
    "    df_drivers.loc[i, \"full_name\"] =  df_drivers.loc[i, \"forename\"] + \" \" + df_drivers.loc[i, \"surname\"]"
   ]
  },
  {
   "cell_type": "code",
   "execution_count": 113,
   "id": "dd98de45",
   "metadata": {
    "extensions": {
     "jupyter_dashboards": {
      "version": 1,
      "views": {
       "default_view": {
        "hidden": true
       }
      }
     }
    }
   },
   "outputs": [],
   "source": [
    "# merge full name with lap times according to driver id\n",
    "df_drivernames = df_drivers[[\"driverId\", \"full_name\"]]\n",
    "df_laptimes = df_laptimes.merge(df_drivernames, on=\"driverId\")"
   ]
  },
  {
   "cell_type": "code",
   "execution_count": 114,
   "id": "3f361233",
   "metadata": {
    "extensions": {
     "jupyter_dashboards": {
      "version": 1,
      "views": {
       "default_view": {
        "hidden": true
       }
      }
     }
    }
   },
   "outputs": [],
   "source": [
    "# merge race names with lap times according to race id\n",
    "df_laptimes = df_laptimes.merge(df_races[[\"raceId\", \"name\", \"year\"]], on=\"raceId\")"
   ]
  },
  {
   "cell_type": "code",
   "execution_count": 115,
   "id": "4196638e",
   "metadata": {
    "extensions": {
     "jupyter_dashboards": {
      "version": 1,
      "views": {
       "default_view": {
        "hidden": true
       }
      }
     }
    }
   },
   "outputs": [],
   "source": [
    "# make ipywidgets - select year, race and driver\n",
    "#using ipywidgets\n",
    "import ipywidgets as widgets\n",
    "from ipywidgets import interact, interactive, fixed, interact_manual"
   ]
  },
  {
   "cell_type": "markdown",
   "id": "cbf6de4e",
   "metadata": {
    "extensions": {
     "jupyter_dashboards": {
      "version": 1,
      "views": {
       "default_view": {
        "col": 0,
        "height": 4,
        "row": 4,
        "width": 6
       }
      }
     }
    }
   },
   "source": [
    "## Race Statistics\n",
    "\n",
    "- The first graph gives us a trend of lap times as the laps progress in a race\n",
    "- The second graph gives us a trend of position in the race as the laps progress"
   ]
  },
  {
   "cell_type": "code",
   "execution_count": 116,
   "id": "0ce3c442",
   "metadata": {
    "extensions": {
     "jupyter_dashboards": {
      "version": 1,
      "views": {
       "default_view": {
        "hidden": true
       }
      }
     }
    }
   },
   "outputs": [],
   "source": [
    "# select race\n",
    "def select_race(df_year, race, driver):\n",
    "    df_race_year = df_year[df_year['name'] == race]\n",
    "    df_race_year_driver = df_race_year[df_race_year['full_name'] == driver]\n",
    "    \n",
    "    df_race_year_driver[\"timestamp\"] = df_race_year_driver[\"time\"].apply(lambda x: datetime.strptime(x, '%M:%S.%f'))\n",
    "    fig, axs = plt.subplots(2,1)\n",
    "    axs[0].plot(df_race_year_driver[\"lap\"], df_race_year_driver[\"timestamp\"])\n",
    "    axs[0].set_xlabel(\"LAP NUMBER\")\n",
    "    axs[0].set_ylabel(\"LAP TIME\")\n",
    "    axs[1].plot(df_race_year_driver[\"lap\"], df_race_year_driver[\"position\"])\n",
    "    axs[1].set_xlabel(\"LAP NUMBER\")\n",
    "    axs[1].set_ylabel(\"POSITION\")"
   ]
  },
  {
   "cell_type": "code",
   "execution_count": 117,
   "id": "895777ac",
   "metadata": {
    "extensions": {
     "jupyter_dashboards": {
      "version": 1,
      "views": {
       "default_view": {
        "col": 0,
        "height": 11,
        "row": 8,
        "width": 6
       }
      }
     }
    },
    "scrolled": true
   },
   "outputs": [
    {
     "data": {
      "application/vnd.jupyter.widget-view+json": {
       "model_id": "81d818e69fbc4a50b4ea47a01b029a36",
       "version_major": 2,
       "version_minor": 0
      },
      "text/plain": [
       "interactive(children=(Dropdown(description='Year', options=(1996, 1997, 1998, 1999, 2000, 2001, 2002, 2003, 20…"
      ]
     },
     "metadata": {},
     "output_type": "display_data"
    }
   ],
   "source": [
    "@widgets.interact(Year = df_laptimes['year'].sort_values().unique())\n",
    "def choose_year(Year):\n",
    "    df_laptimes_year = df_laptimes[df_laptimes['year'] == Year]\n",
    "    \n",
    "    # select race\n",
    "    df_race_year = interactive(select_race, df_year = fixed(df_laptimes_year), race=df_laptimes_year['name'].unique(),\n",
    "                              driver=df_laptimes_year['full_name'].unique())\n",
    "    display(df_race_year)"
   ]
  },
  {
   "cell_type": "code",
   "execution_count": 118,
   "id": "bc831587",
   "metadata": {
    "extensions": {
     "jupyter_dashboards": {
      "version": 1,
      "views": {
       "default_view": {
        "hidden": true
       }
      }
     }
    }
   },
   "outputs": [],
   "source": [
    "df_standings = df_standings.merge(df_drivernames, on=\"driverId\")\n",
    "df_standings = df_standings.merge(df_races[[\"raceId\", \"name\", \"year\"]], on=\"raceId\")"
   ]
  },
  {
   "cell_type": "markdown",
   "id": "f50e4c23",
   "metadata": {
    "extensions": {
     "jupyter_dashboards": {
      "version": 1,
      "views": {
       "default_view": {
        "col": 6,
        "height": 3,
        "row": 4,
        "width": 6
       }
      }
     }
    }
   },
   "source": [
    "## Driver Statistics"
   ]
  },
  {
   "cell_type": "code",
   "execution_count": 119,
   "id": "86339088",
   "metadata": {
    "extensions": {
     "jupyter_dashboards": {
      "version": 1,
      "views": {
       "default_view": {
        "hidden": true
       }
      }
     }
    }
   },
   "outputs": [],
   "source": [
    "global year\n",
    "def select_racer(df_standings_year, racer):\n",
    "    df_racer_year = df_standings_year[df_standings_year['full_name']==racer]\n",
    "    \n",
    "    df_racer_year.sort_values(by=\"raceId\", inplace=True)\n",
    "    \n",
    "    global year \n",
    "    \n",
    "    fig, ax = plt.subplots(dpi=100)\n",
    "    ax.plot(df_racer_year['raceId'], df_racer_year['points'])\n",
    "    ax.set_xticks(df_racer_year['raceId'])\n",
    "    ax.set_xticklabels(df_racer_year['name'], rotation=90);\n",
    "    ax.set_xlabel(\"Race Name\")\n",
    "    ax.set_ylabel(\"Season Points\");\n",
    "    ax.set_title(\"{} Season Progress- {}\".format(str(year), racer));"
   ]
  },
  {
   "cell_type": "code",
   "execution_count": 120,
   "id": "5678c218",
   "metadata": {
    "extensions": {
     "jupyter_dashboards": {
      "version": 1,
      "views": {
       "default_view": {
        "col": 6,
        "height": 19,
        "row": 7,
        "width": 6
       }
      }
     }
    },
    "scrolled": false
   },
   "outputs": [
    {
     "data": {
      "application/vnd.jupyter.widget-view+json": {
       "model_id": "f3f528a3fcbb4356aa787cf78b23ec59",
       "version_major": 2,
       "version_minor": 0
      },
      "text/plain": [
       "interactive(children=(Dropdown(description='Year', options=(1950, 1951, 1952, 1953, 1954, 1955, 1956, 1957, 19…"
      ]
     },
     "metadata": {},
     "output_type": "display_data"
    }
   ],
   "source": [
    "# making ipywidgets\n",
    "@widgets.interact(Year = df_standings['year'].sort_values().unique())\n",
    "def choose_year(Year):\n",
    "    df_standings_year = df_standings[df_standings['year'] == Year]\n",
    "    \n",
    "    global year\n",
    "    year = Year\n",
    "    # select racer\n",
    "    df_racer_year = interactive(select_racer, df_standings_year = fixed(df_standings_year), racer=df_standings_year['full_name'].unique())\n",
    "    display(df_racer_year)"
   ]
  },
  {
   "cell_type": "markdown",
   "id": "f828484e",
   "metadata": {
    "extensions": {
     "jupyter_dashboards": {
      "version": 1,
      "views": {
       "default_view": {
        "col": 0,
        "height": 3,
        "row": 19,
        "width": 6
       }
      }
     }
    }
   },
   "source": [
    "## Comparing Driver Performance"
   ]
  },
  {
   "cell_type": "code",
   "execution_count": 121,
   "id": "9f3f3779",
   "metadata": {
    "extensions": {
     "jupyter_dashboards": {
      "version": 1,
      "views": {
       "default_view": {
        "hidden": true
       }
      }
     }
    }
   },
   "outputs": [],
   "source": [
    "def plot_versus(df_standings_year, driver_1, driver_2):\n",
    "    \n",
    "    df_standings_d1 = df_standings_year[df_standings_year['full_name'] == driver_1]\n",
    "    df_standings_d2 = df_standings_year[df_standings_year['full_name'] == driver_2]\n",
    "    \n",
    "    df_standings_d1.sort_values('raceId', inplace=True)\n",
    "    df_standings_d2.sort_values('raceId', inplace=True)\n",
    "    \n",
    "    fig, ax = plt.subplots(dpi=100)\n",
    "    ax.plot(df_standings_d1['raceId'], df_standings_d1['points'], label=driver_1)\n",
    "    ax.plot(df_standings_d2['raceId'], df_standings_d2['points'], label=driver_2)\n",
    "    ax.set_xticks(df_standings_d1['raceId'])\n",
    "    ax.set_xticklabels(df_standings_d1['name'], rotation=90)\n",
    "    ax.legend()\n",
    "    ax.set_xlabel(\"Race Name\")\n",
    "    ax.set_ylabel(\"Season Points\");"
   ]
  },
  {
   "cell_type": "code",
   "execution_count": 122,
   "id": "3beda658",
   "metadata": {
    "extensions": {
     "jupyter_dashboards": {
      "version": 1,
      "views": {
       "default_view": {
        "col": 0,
        "height": 19,
        "row": 22,
        "width": 6
       }
      }
     }
    }
   },
   "outputs": [
    {
     "data": {
      "application/vnd.jupyter.widget-view+json": {
       "model_id": "98f9d418264845e7b2c6248f97445b58",
       "version_major": 2,
       "version_minor": 0
      },
      "text/plain": [
       "interactive(children=(Dropdown(description='Year', options=(1950, 1951, 1952, 1953, 1954, 1955, 1956, 1957, 19…"
      ]
     },
     "metadata": {},
     "output_type": "display_data"
    }
   ],
   "source": [
    "@widgets.interact(Year = df_standings['year'].sort_values().unique())\n",
    "def choose_year(Year):\n",
    "    df_standings_year = df_standings[df_standings['year'] == Year]\n",
    "            \n",
    "    drivers = interactive(plot_versus, df_standings_year=fixed(df_standings_year),\n",
    "                         driver_1=df_standings_year['full_name'].unique(),\n",
    "                         driver_2 = df_standings_year['full_name'].unique())\n",
    "    display(drivers)"
   ]
  },
  {
   "cell_type": "code",
   "execution_count": 123,
   "id": "a99b1548",
   "metadata": {
    "extensions": {
     "jupyter_dashboards": {
      "version": 1,
      "views": {
       "default_view": {
        "hidden": true
       }
      }
     }
    }
   },
   "outputs": [],
   "source": [
    "df_constructors = pd.read_csv(os.path.join(data_path, \"constructors.csv\"))\n",
    "df_results = pd.read_csv(os.path.join(data_path, \"results.csv\"))"
   ]
  },
  {
   "cell_type": "code",
   "execution_count": 124,
   "id": "fb7666a6",
   "metadata": {
    "extensions": {
     "jupyter_dashboards": {
      "version": 1,
      "views": {
       "default_view": {
        "hidden": true
       }
      }
     }
    }
   },
   "outputs": [],
   "source": [
    "df_results = df_results.merge(df_constructors[['constructorId', 'name']], on='constructorId')\n",
    "df_results = df_results.merge(df_drivers[[\"driverId\", \"full_name\"]], on=\"driverId\")\n",
    "df_results = df_results.merge(df_races[[\"raceId\", \"name\", \"year\"]], on=\"raceId\")\n",
    "df_results.rename(columns={\"name_x\": \"constructor_name\", \"name_y\": \"race_name\"}, inplace=True)"
   ]
  },
  {
   "cell_type": "code",
   "execution_count": 125,
   "id": "311883ac",
   "metadata": {
    "extensions": {
     "jupyter_dashboards": {
      "version": 1,
      "views": {
       "default_view": {
        "hidden": true
       }
      }
     }
    }
   },
   "outputs": [],
   "source": [
    "for i in df_results.index:\n",
    "    if df_results.loc[i][\"race_name\"] == \"Qatar Grand Prix\" and df_results.loc[i][\"year\"] == 2021:\n",
    "        df_results.loc[i, \"raceId\"] = 1072"
   ]
  },
  {
   "cell_type": "code",
   "execution_count": 126,
   "id": "9ad28240",
   "metadata": {
    "extensions": {
     "jupyter_dashboards": {
      "version": 1,
      "views": {
       "default_view": {
        "hidden": true
       }
      }
     }
    }
   },
   "outputs": [],
   "source": [
    "def plot_drivers(df_results_year, team):\n",
    "    \n",
    "    df_results_team = df_results_year[df_results_year['constructor_name'] == team]\n",
    "\n",
    "    \n",
    "    df_results_team = df_results_team.merge(df_standings[['raceId', 'driverId', 'points', 'year']], on=['raceId', 'driverId', 'year'])\n",
    "    df_results_team.rename(columns={'points_x': 'race_points', 'points_y': 'total_points'}, inplace=True)\n",
    "    \n",
    "    \n",
    "    df_results_team.sort_values(by='raceId')\n",
    "    \n",
    "    fig, ax = plt.subplots(dpi=100)\n",
    "    for driver in df_results_team['full_name'].unique():\n",
    "        df_driver_team = df_results_team[df_results_team['full_name'] == driver]\n",
    "        df_driver_team.sort_values(by=\"raceId\")\n",
    "\n",
    "        ax.plot(df_driver_team['raceId'], df_driver_team['total_points'], label=driver)\n",
    "\n",
    "    ax.set_xticks(df_results_team['raceId'])\n",
    "    ax.set_xticklabels(df_results_team['race_name'], rotation=90);\n",
    "    ax.set_xlabel(\"Race Name\")\n",
    "    ax.set_ylabel(\"Season Points\")\n",
    "    ax.legend()\n",
    "    # ax.set_title(\"2020 Season Progress- McLaren Drivers\");"
   ]
  },
  {
   "cell_type": "markdown",
   "id": "ba3fb190",
   "metadata": {
    "extensions": {
     "jupyter_dashboards": {
      "version": 1,
      "views": {
       "default_view": {
        "col": 6,
        "height": 3,
        "row": 26,
        "width": 6
       }
      }
     }
    }
   },
   "source": [
    "## Comparings driver performance in the same team"
   ]
  },
  {
   "cell_type": "code",
   "execution_count": 127,
   "id": "9c32e746",
   "metadata": {
    "extensions": {
     "jupyter_dashboards": {
      "version": 1,
      "views": {
       "default_view": {
        "col": 6,
        "height": 20,
        "row": 29,
        "width": 6
       }
      }
     }
    }
   },
   "outputs": [
    {
     "data": {
      "application/vnd.jupyter.widget-view+json": {
       "model_id": "0ea9852db1f14a268bf14fbf9f9aa1c1",
       "version_major": 2,
       "version_minor": 0
      },
      "text/plain": [
       "interactive(children=(Dropdown(description='Year', options=(2021, 2020, 2019, 2018, 2017, 2016, 2015, 2014, 20…"
      ]
     },
     "metadata": {},
     "output_type": "display_data"
    }
   ],
   "source": [
    "@widgets.interact(Year = df_results['year'].sort_values(ascending=False).unique())\n",
    "def choose_year(Year):\n",
    "    df_results_year = df_results[df_results['year'] == Year]\n",
    "            \n",
    "    drivers = interactive(plot_drivers, df_results_year=fixed(df_results_year),\n",
    "                            team = df_results_year['constructor_name'].unique())\n",
    "    display(drivers)"
   ]
  },
  {
   "cell_type": "code",
   "execution_count": 128,
   "id": "b1015cef",
   "metadata": {
    "extensions": {
     "jupyter_dashboards": {
      "version": 1,
      "views": {
       "default_view": {
        "hidden": true
       }
      }
     }
    }
   },
   "outputs": [],
   "source": [
    "# analyzing the constructors results\n",
    "df_constructors_result = pd.read_csv(os.path.join(data_path, \"constructor_results.csv\"))\n",
    "df_constructors_standing = pd.read_csv(os.path.join(data_path, \"constructor_standings.csv\"))"
   ]
  },
  {
   "cell_type": "code",
   "execution_count": 129,
   "id": "dd6e1294",
   "metadata": {
    "extensions": {
     "jupyter_dashboards": {
      "version": 1,
      "views": {
       "default_view": {
        "hidden": true
       }
      }
     }
    }
   },
   "outputs": [],
   "source": [
    "# use constructor standing\n",
    "# merge race name, constructor(team) name\n",
    "df_constructors_result = df_constructors_result.merge(df_constructors[['constructorId', 'name']], on='constructorId')\n",
    "df_constructors_result = df_constructors_result.merge(df_races[[\"raceId\", \"name\", \"year\"]], on=\"raceId\")"
   ]
  },
  {
   "cell_type": "code",
   "execution_count": 130,
   "id": "b5e9417a",
   "metadata": {
    "extensions": {
     "jupyter_dashboards": {
      "version": 1,
      "views": {
       "default_view": {
        "hidden": true
       }
      }
     }
    }
   },
   "outputs": [],
   "source": [
    "df_constructors_result.rename(columns={\"name_x\": \"constructor_name\", \"name_y\": \"race_name\"}, inplace=True)"
   ]
  },
  {
   "cell_type": "code",
   "execution_count": 131,
   "id": "3dc8fda0",
   "metadata": {
    "extensions": {
     "jupyter_dashboards": {
      "version": 1,
      "views": {
       "default_view": {
        "hidden": true
       }
      }
     }
    }
   },
   "outputs": [],
   "source": [
    "def plot_teams(df_constructors_results_years, team):\n",
    "    df_team = df_constructors_results_years[df_constructors_results_years['constructor_name'] == team]\n",
    "    \n",
    "    df_team = df_team.groupby(\"year\")[\"points\"].sum()\n",
    "    \n",
    "    year = []\n",
    "    points = []\n",
    "    for k, v in df_team.items():\n",
    "        year.append(k)\n",
    "        points.append(v)\n",
    "        \n",
    "    plt.bar(year, points)\n",
    "    # plt.title(\"Ferrari's Performance 2016-2021\")\n",
    "    plt.xlabel(\"Year\")\n",
    "    plt.ylabel(\"Constructor Points\")\n",
    "    plt.xticks(year)"
   ]
  },
  {
   "cell_type": "markdown",
   "id": "5e6ffe4b",
   "metadata": {
    "extensions": {
     "jupyter_dashboards": {
      "version": 1,
      "views": {
       "default_view": {
        "col": 0,
        "height": 3,
        "row": 41,
        "width": 6
       }
      }
     }
    }
   },
   "source": [
    "## Team Performance"
   ]
  },
  {
   "cell_type": "code",
   "execution_count": 132,
   "id": "b1a0f194",
   "metadata": {
    "extensions": {
     "jupyter_dashboards": {
      "version": 1,
      "views": {
       "default_view": {
        "col": 0,
        "height": 13,
        "row": 44,
        "width": 6
       }
      }
     }
    }
   },
   "outputs": [
    {
     "data": {
      "application/vnd.jupyter.widget-view+json": {
       "model_id": "6c697538698c494d9c15e5d366678560",
       "version_major": 2,
       "version_minor": 0
      },
      "text/plain": [
       "interactive(children=(Dropdown(description='year_1', options=(1956, 1958, 1959, 1960, 1961, 1962, 1963, 1964, …"
      ]
     },
     "metadata": {},
     "output_type": "display_data"
    }
   ],
   "source": [
    "@widgets.interact(year_1 = df_constructors_result['year'].sort_values().unique(),\n",
    "                 year_2 = df_constructors_result['year'].sort_values().unique())\n",
    "def choose_year(year_1, year_2):\n",
    "    \n",
    "    df_constructors_results_years = df_constructors_result[df_constructors_result['year'].isin(list(range(year_1, year_2+1)))]\n",
    "    \n",
    "            \n",
    "    team = interactive(plot_teams, df_constructors_results_years=fixed(df_constructors_results_years),\n",
    "                            team = df_constructors_results_years['constructor_name'].unique())\n",
    "    display(team)"
   ]
  },
  {
   "cell_type": "markdown",
   "id": "78d4a066",
   "metadata": {
    "extensions": {
     "jupyter_dashboards": {
      "version": 1,
      "views": {
       "default_view": {
        "col": 6,
        "height": 3,
        "row": 49,
        "width": 6
       }
      }
     }
    }
   },
   "source": [
    "## Qualifying Lap Time Trends"
   ]
  },
  {
   "cell_type": "code",
   "execution_count": 133,
   "id": "63593f00",
   "metadata": {
    "extensions": {
     "jupyter_dashboards": {
      "version": 1,
      "views": {
       "default_view": {
        "hidden": true
       }
      }
     }
    }
   },
   "outputs": [],
   "source": [
    "# exploring qualifying.csv and pit_stops.csv\n",
    "df_qualifying = pd.read_csv(os.path.join(data_path, \"qualifying.csv\"))\n",
    "df_pit_stops = pd.read_csv(os.path.join(data_path, \"pit_stops.csv\")) "
   ]
  },
  {
   "cell_type": "code",
   "execution_count": 134,
   "id": "5c7895fd",
   "metadata": {
    "extensions": {
     "jupyter_dashboards": {
      "version": 1,
      "views": {
       "default_view": {
        "hidden": true
       }
      }
     }
    }
   },
   "outputs": [],
   "source": [
    "df_qualifying = df_qualifying.merge(df_races[[\"raceId\", \"name\", \"year\"]], on=\"raceId\")\n",
    "df_qualifying = df_qualifying.merge(df_drivers[[\"driverId\", \"full_name\"]], on=\"driverId\")"
   ]
  },
  {
   "cell_type": "code",
   "execution_count": 135,
   "id": "b6b4738d",
   "metadata": {
    "extensions": {
     "jupyter_dashboards": {
      "version": 1,
      "views": {
       "default_view": {
        "hidden": true
       }
      }
     }
    }
   },
   "outputs": [],
   "source": [
    "#df_qualifying = df_qualifying.replace(r'\\\\N', \"0\" , regex=True)"
   ]
  },
  {
   "cell_type": "code",
   "execution_count": 136,
   "id": "3e40061a",
   "metadata": {
    "extensions": {
     "jupyter_dashboards": {
      "version": 1,
      "views": {
       "default_view": {
        "hidden": true
       }
      }
     }
    }
   },
   "outputs": [],
   "source": [
    "df_qualifying['q1'] = df_qualifying['q1'].replace(r'\\\\N', \"0:0.0\" , regex=True)\n",
    "df_qualifying['q2'] = df_qualifying['q2'].replace(r'\\\\N', \"0:0.0\" , regex=True)\n",
    "df_qualifying['q3'] = df_qualifying['q3'].replace(r'\\\\N', \"0:0.0\" , regex=True)"
   ]
  },
  {
   "cell_type": "code",
   "execution_count": 137,
   "id": "548ad904",
   "metadata": {
    "extensions": {
     "jupyter_dashboards": {
      "version": 1,
      "views": {
       "default_view": {
        "hidden": true
       }
      }
     }
    }
   },
   "outputs": [],
   "source": [
    "def plot_quals(df_qualifying_years, driver, race):\n",
    "    \n",
    "    df_qualifying_race = df_qualifying_years[df_qualifying_years['name'] == race]\n",
    "    df_qualifying_driver = df_qualifying_race[df_qualifying_race['full_name'] == driver]\n",
    "\n",
    "    df_qualifying_driver['q1'] = df_qualifying_driver['q1'].apply(lambda x: datetime.strptime(x, '%M:%S.%f'))\n",
    "    df_qualifying_driver['q2'] = df_qualifying_driver['q2'].apply(lambda x: datetime.strptime(x, '%M:%S.%f'))\n",
    "    df_qualifying_driver['q3'] = df_qualifying_driver['q3'].apply(lambda x: datetime.strptime(x, '%M:%S.%f'))\n",
    "    \n",
    "    # create bar chart\n",
    "    fig, ax = plt.subplots(dpi=100)\n",
    "    ax.plot(df_qualifying_driver['year'], df_qualifying_driver['q1'], label='q1')\n",
    "    ax.plot(df_qualifying_driver['year'], df_qualifying_driver['q2'], label='q2')\n",
    "    ax.plot(df_qualifying_driver['year'], df_qualifying_driver['q3'], label='q3')\n",
    "    ax.set_xticks(df_qualifying_driver['year']);\n",
    "    ax.set_xlabel(\"Year\")\n",
    "    ax.set_ylabel(\"Lap Times HH:MM:SS\")\n",
    "    # ax.set_title(\"Lewis Hamilton: Qualifying Lap Times at the Australian Grand Prix\")\n",
    "    ax.legend();"
   ]
  },
  {
   "cell_type": "code",
   "execution_count": 138,
   "id": "33b2139d",
   "metadata": {
    "extensions": {
     "jupyter_dashboards": {
      "version": 1,
      "views": {
       "default_view": {
        "col": 6,
        "height": 14,
        "row": 52,
        "width": 6
       }
      }
     }
    }
   },
   "outputs": [
    {
     "data": {
      "application/vnd.jupyter.widget-view+json": {
       "model_id": "0c2556209a6c44e78245a9855049fc69",
       "version_major": 2,
       "version_minor": 0
      },
      "text/plain": [
       "interactive(children=(Dropdown(description='year_1', options=(1994, 1995, 1996, 1997, 1998, 1999, 2000, 2001, …"
      ]
     },
     "metadata": {},
     "output_type": "display_data"
    }
   ],
   "source": [
    "@widgets.interact(year_1 = df_qualifying['year'].sort_values().unique(),\n",
    "                 year_2 = df_qualifying['year'].sort_values().unique())\n",
    "def choose_year(year_1, year_2):\n",
    "    \n",
    "    df_qualifying_years = df_qualifying[df_qualifying['year'].isin(list(range(year_1, year_2+1)))]\n",
    "    \n",
    "            \n",
    "    team = interactive(plot_quals, df_qualifying_years=fixed(df_qualifying_years),\n",
    "                            driver = df_qualifying_years['full_name'].unique(),\n",
    "                              race = df_qualifying_years['name'].unique())\n",
    "    display(team)"
   ]
  },
  {
   "cell_type": "code",
   "execution_count": null,
   "id": "4efe79f8",
   "metadata": {
    "extensions": {
     "jupyter_dashboards": {
      "version": 1,
      "views": {
       "default_view": {
        "hidden": true
       }
      }
     }
    }
   },
   "outputs": [],
   "source": []
  }
 ],
 "metadata": {
  "extensions": {
   "jupyter_dashboards": {
    "activeView": "default_view",
    "version": 1,
    "views": {
     "default_view": {
      "cellMargin": 10,
      "defaultCellHeight": 40,
      "maxColumns": 12,
      "name": "active_view",
      "type": "grid"
     }
    }
   }
  },
  "kernelspec": {
   "display_name": "Python 3 (ipykernel)",
   "language": "python",
   "name": "python3"
  },
  "language_info": {
   "codemirror_mode": {
    "name": "ipython",
    "version": 3
   },
   "file_extension": ".py",
   "mimetype": "text/x-python",
   "name": "python",
   "nbconvert_exporter": "python",
   "pygments_lexer": "ipython3",
   "version": "3.9.7"
  }
 },
 "nbformat": 4,
 "nbformat_minor": 5
}
