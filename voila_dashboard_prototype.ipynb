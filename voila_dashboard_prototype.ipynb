{
 "cells": [
  {
   "cell_type": "code",
   "execution_count": 20,
   "id": "8ae7259c",
   "metadata": {
    "extensions": {
     "jupyter_dashboards": {
      "version": 1,
      "views": {
       "default_view": {
        "hidden": true
       }
      }
     }
    }
   },
   "outputs": [],
   "source": [
    "# !pip install voila"
   ]
  },
  {
   "cell_type": "markdown",
   "id": "1decb2a3",
   "metadata": {
    "extensions": {
     "jupyter_dashboards": {
      "version": 1,
      "views": {
       "default_view": {
        "col": 0,
        "height": 4,
        "row": 0,
        "width": 12
       }
      }
     }
    }
   },
   "source": [
    "<center><img src=\"formula-1-logo-5-3.png\" width=\"400\"/></center>"
   ]
  },
  {
   "cell_type": "code",
   "execution_count": 21,
   "id": "a34c7d2e",
   "metadata": {
    "extensions": {
     "jupyter_dashboards": {
      "version": 1,
      "views": {
       "default_view": {
        "hidden": true
       }
      }
     }
    }
   },
   "outputs": [],
   "source": [
    "import os\n",
    "import numpy as np\n",
    "import pandas as pd\n",
    "import matplotlib.pyplot as plt\n",
    "from datetime import datetime\n",
    "\n",
    "import warnings\n",
    "warnings.filterwarnings(\"ignore\")\n",
    "\n",
    "data_path = \"./data\""
   ]
  },
  {
   "cell_type": "code",
   "execution_count": 22,
   "id": "d7bd6096",
   "metadata": {
    "extensions": {
     "jupyter_dashboards": {
      "version": 1,
      "views": {
       "default_view": {
        "hidden": true
       }
      }
     }
    }
   },
   "outputs": [],
   "source": [
    "# List all available data files\n",
    "# for file in os.listdir(data_path):\n",
    "#     print(file)"
   ]
  },
  {
   "cell_type": "code",
   "execution_count": 23,
   "id": "03eae80f",
   "metadata": {
    "extensions": {
     "jupyter_dashboards": {
      "version": 1,
      "views": {
       "default_view": {
        "hidden": true
       }
      }
     }
    }
   },
   "outputs": [],
   "source": [
    "# Dataset Exploration\n",
    "# List all the columns in each file\n",
    "\n",
    "files_and_columns = {}\n",
    "for file in os.listdir(data_path):\n",
    "    df = pd.read_csv(os.path.join(data_path, file))\n",
    "    files_and_columns[file] = list(df.columns)"
   ]
  },
  {
   "cell_type": "code",
   "execution_count": 24,
   "id": "cc466631",
   "metadata": {
    "extensions": {
     "jupyter_dashboards": {
      "version": 1,
      "views": {
       "default_view": {
        "hidden": true
       }
      }
     }
    }
   },
   "outputs": [],
   "source": [
    "df_status = pd.read_csv(os.path.join(data_path, \"status.csv\"))\n",
    "df_laptimes = pd.read_csv(os.path.join(data_path, \"lap_times.csv\"))\n",
    "df_drivers = pd.read_csv(os.path.join(data_path, \"drivers.csv\"))\n",
    "df_races = pd.read_csv(os.path.join(data_path, \"races.csv\"))\n",
    "df_standings = pd.read_csv(os.path.join(data_path, \"driver_standings.csv\"))"
   ]
  },
  {
   "cell_type": "code",
   "execution_count": 25,
   "id": "0fc8af30",
   "metadata": {
    "extensions": {
     "jupyter_dashboards": {
      "version": 1,
      "views": {
       "default_view": {
        "hidden": true
       }
      }
     }
    }
   },
   "outputs": [],
   "source": [
    "# make a column with driver full name (merge first and last name)\n",
    "df_drivers[\"full_name\"] = \"\"\n",
    "\n",
    "for i in df_drivers.index:\n",
    "    df_drivers.loc[i, \"full_name\"] =  df_drivers.loc[i, \"forename\"] + \" \" + df_drivers.loc[i, \"surname\"]"
   ]
  },
  {
   "cell_type": "code",
   "execution_count": 26,
   "id": "dd98de45",
   "metadata": {
    "extensions": {
     "jupyter_dashboards": {
      "version": 1,
      "views": {
       "default_view": {
        "hidden": true
       }
      }
     }
    }
   },
   "outputs": [],
   "source": [
    "# merge full name with lap times according to driver id\n",
    "df_drivernames = df_drivers[[\"driverId\", \"full_name\"]]\n",
    "df_laptimes = df_laptimes.merge(df_drivernames, on=\"driverId\")"
   ]
  },
  {
   "cell_type": "code",
   "execution_count": 27,
   "id": "3f361233",
   "metadata": {
    "extensions": {
     "jupyter_dashboards": {
      "version": 1,
      "views": {
       "default_view": {
        "hidden": true
       }
      }
     }
    }
   },
   "outputs": [],
   "source": [
    "# merge race names with lap times according to race id\n",
    "df_laptimes = df_laptimes.merge(df_races[[\"raceId\", \"name\", \"year\"]], on=\"raceId\")"
   ]
  },
  {
   "cell_type": "code",
   "execution_count": 28,
   "id": "4196638e",
   "metadata": {
    "extensions": {
     "jupyter_dashboards": {
      "version": 1,
      "views": {
       "default_view": {
        "hidden": true
       }
      }
     }
    }
   },
   "outputs": [],
   "source": [
    "# make ipywidgets - select year, race and driver\n",
    "#using ipywidgets\n",
    "import ipywidgets as widgets\n",
    "from ipywidgets import interact, interactive, fixed, interact_manual"
   ]
  },
  {
   "cell_type": "markdown",
   "id": "cbf6de4e",
   "metadata": {
    "extensions": {
     "jupyter_dashboards": {
      "version": 1,
      "views": {
       "default_view": {
        "col": 1,
        "height": 4,
        "row": 4,
        "width": 6
       }
      }
     }
    }
   },
   "source": [
    "## Race Statistics\n",
    "\n",
    "- The first graph gives us a trend of lap times as the laps progress in a race\n",
    "- The second graph gives us a trend of position in the race as the laps progress"
   ]
  },
  {
   "cell_type": "code",
   "execution_count": 29,
   "id": "0ce3c442",
   "metadata": {
    "extensions": {
     "jupyter_dashboards": {
      "version": 1,
      "views": {
       "default_view": {
        "hidden": true
       }
      }
     }
    }
   },
   "outputs": [],
   "source": [
    "# select race\n",
    "def select_race(df_year, race, driver):\n",
    "    df_race_year = df_year[df_year['name'] == race]\n",
    "    df_race_year_driver = df_race_year[df_race_year['full_name'] == driver]\n",
    "    \n",
    "    df_race_year_driver[\"timestamp\"] = df_race_year_driver[\"time\"].apply(lambda x: datetime.strptime(x, '%M:%S.%f'))\n",
    "    fig, axs = plt.subplots(2,1)\n",
    "    axs[0].plot(df_race_year_driver[\"lap\"], df_race_year_driver[\"timestamp\"])\n",
    "    axs[0].set_xlabel(\"LAP NUMBER\")\n",
    "    axs[0].set_ylabel(\"LAP TIME\")\n",
    "    axs[1].plot(df_race_year_driver[\"lap\"], df_race_year_driver[\"position\"])\n",
    "    axs[1].set_xlabel(\"LAP NUMBER\")\n",
    "    axs[1].set_ylabel(\"POSITION\")"
   ]
  },
  {
   "cell_type": "code",
   "execution_count": 30,
   "id": "895777ac",
   "metadata": {
    "extensions": {
     "jupyter_dashboards": {
      "version": 1,
      "views": {
       "default_view": {
        "col": 1,
        "height": 11,
        "row": 8,
        "width": 6
       }
      }
     }
    },
    "scrolled": true
   },
   "outputs": [
    {
     "data": {
      "application/vnd.jupyter.widget-view+json": {
       "model_id": "e05f3927980b4e31893bbb22e109a73a",
       "version_major": 2,
       "version_minor": 0
      },
      "text/plain": [
       "interactive(children=(Dropdown(description='Year', options=(1996, 1997, 1998, 1999, 2000, 2001, 2002, 2003, 20…"
      ]
     },
     "metadata": {},
     "output_type": "display_data"
    }
   ],
   "source": [
    "@widgets.interact(Year = df_laptimes['year'].sort_values().unique())\n",
    "def choose_year(Year):\n",
    "    df_laptimes_year = df_laptimes[df_laptimes['year'] == Year]\n",
    "    \n",
    "    # select race\n",
    "    df_race_year = interactive(select_race, df_year = fixed(df_laptimes_year), race=df_laptimes_year['name'].unique(),\n",
    "                              driver=df_laptimes_year['full_name'].unique())\n",
    "    display(df_race_year)"
   ]
  },
  {
   "cell_type": "code",
   "execution_count": 31,
   "id": "bc831587",
   "metadata": {
    "extensions": {
     "jupyter_dashboards": {
      "version": 1,
      "views": {
       "default_view": {
        "hidden": true
       }
      }
     }
    }
   },
   "outputs": [],
   "source": [
    "df_standings = df_standings.merge(df_drivernames, on=\"driverId\")\n",
    "df_standings = df_standings.merge(df_races[[\"raceId\", \"name\", \"year\"]], on=\"raceId\")"
   ]
  },
  {
   "cell_type": "markdown",
   "id": "f50e4c23",
   "metadata": {
    "extensions": {
     "jupyter_dashboards": {
      "version": 1,
      "views": {
       "default_view": {
        "col": 7,
        "height": 3,
        "row": 4,
        "width": 4
       }
      }
     }
    }
   },
   "source": [
    "## Driver Statistics"
   ]
  },
  {
   "cell_type": "code",
   "execution_count": 32,
   "id": "86339088",
   "metadata": {
    "extensions": {
     "jupyter_dashboards": {
      "version": 1,
      "views": {
       "default_view": {
        "hidden": true
       }
      }
     }
    }
   },
   "outputs": [],
   "source": [
    "global year\n",
    "def select_racer(df_standings_year, racer):\n",
    "    df_racer_year = df_standings_year[df_standings_year['full_name']==racer]\n",
    "    \n",
    "    df_racer_year.sort_values(by=\"raceId\", inplace=True)\n",
    "    \n",
    "    global year \n",
    "    \n",
    "    fig, ax = plt.subplots(dpi=100)\n",
    "    ax.plot(df_racer_year['raceId'], df_racer_year['points'])\n",
    "    ax.set_xticks(df_racer_year['raceId'])\n",
    "    ax.set_xticklabels(df_racer_year['name'], rotation=90);\n",
    "    ax.set_xlabel(\"Race Name\")\n",
    "    ax.set_ylabel(\"Season Points\");\n",
    "    ax.set_title(\"{} Season Progress- {}\".format(str(year), racer));"
   ]
  },
  {
   "cell_type": "code",
   "execution_count": 33,
   "id": "5678c218",
   "metadata": {
    "extensions": {
     "jupyter_dashboards": {
      "version": 1,
      "views": {
       "default_view": {
        "col": 7,
        "height": 19,
        "row": 7,
        "width": 4
       }
      }
     }
    },
    "scrolled": false
   },
   "outputs": [
    {
     "data": {
      "application/vnd.jupyter.widget-view+json": {
       "model_id": "8dd7977b6b944e478955f3bace1acadc",
       "version_major": 2,
       "version_minor": 0
      },
      "text/plain": [
       "interactive(children=(Dropdown(description='Year', options=(1950, 1951, 1952, 1953, 1954, 1955, 1956, 1957, 19…"
      ]
     },
     "metadata": {},
     "output_type": "display_data"
    }
   ],
   "source": [
    "# making ipywidgets\n",
    "@widgets.interact(Year = df_standings['year'].sort_values().unique())\n",
    "def choose_year(Year):\n",
    "    df_standings_year = df_standings[df_standings['year'] == Year]\n",
    "    \n",
    "    global year\n",
    "    year = Year\n",
    "    # select racer\n",
    "    df_racer_year = interactive(select_racer, df_standings_year = fixed(df_standings_year), racer=df_standings_year['full_name'].unique())\n",
    "    display(df_racer_year)"
   ]
  },
  {
   "cell_type": "markdown",
   "id": "f828484e",
   "metadata": {
    "extensions": {
     "jupyter_dashboards": {
      "version": 1,
      "views": {
       "default_view": {
        "col": 1,
        "height": 3,
        "row": 19,
        "width": 6
       }
      }
     }
    }
   },
   "source": [
    "## Comparing Driver Performance"
   ]
  },
  {
   "cell_type": "code",
   "execution_count": 34,
   "id": "9f3f3779",
   "metadata": {
    "extensions": {
     "jupyter_dashboards": {
      "version": 1,
      "views": {
       "default_view": {
        "hidden": true
       }
      }
     }
    }
   },
   "outputs": [],
   "source": [
    "def plot_versus(df_standings_year, driver_1, driver_2):\n",
    "    \n",
    "    df_standings_d1 = df_standings_year[df_standings_year['full_name'] == driver_1]\n",
    "    df_standings_d2 = df_standings_year[df_standings_year['full_name'] == driver_2]\n",
    "    \n",
    "    df_standings_d1.sort_values('raceId', inplace=True)\n",
    "    df_standings_d2.sort_values('raceId', inplace=True)\n",
    "    \n",
    "    fig, ax = plt.subplots(dpi=100)\n",
    "    ax.plot(df_standings_d1['raceId'], df_standings_d1['points'], label=driver_1)\n",
    "    ax.plot(df_standings_d2['raceId'], df_standings_d2['points'], label=driver_2)\n",
    "    ax.set_xticks(df_standings_d1['raceId'])\n",
    "    ax.set_xticklabels(df_standings_d1['name'], rotation=90)\n",
    "    ax.legend()\n",
    "    ax.set_xlabel(\"Race Name\")\n",
    "    ax.set_ylabel(\"Season Points\");"
   ]
  },
  {
   "cell_type": "code",
   "execution_count": 35,
   "id": "3beda658",
   "metadata": {
    "extensions": {
     "jupyter_dashboards": {
      "version": 1,
      "views": {
       "default_view": {
        "col": 1,
        "height": 19,
        "row": 22,
        "width": 6
       }
      }
     }
    }
   },
   "outputs": [
    {
     "data": {
      "application/vnd.jupyter.widget-view+json": {
       "model_id": "18a4c69900354621bcb0a86043d535d4",
       "version_major": 2,
       "version_minor": 0
      },
      "text/plain": [
       "interactive(children=(Dropdown(description='Year', options=(1950, 1951, 1952, 1953, 1954, 1955, 1956, 1957, 19…"
      ]
     },
     "metadata": {},
     "output_type": "display_data"
    }
   ],
   "source": [
    "@widgets.interact(Year = df_standings['year'].sort_values().unique())\n",
    "def choose_year(Year):\n",
    "    df_standings_year = df_standings[df_standings['year'] == Year]\n",
    "            \n",
    "    drivers = interactive(plot_versus, df_standings_year=fixed(df_standings_year),\n",
    "                         driver_1=df_standings_year['full_name'].unique(),\n",
    "                         driver_2 = df_standings_year['full_name'].unique())\n",
    "    display(drivers)"
   ]
  },
  {
   "cell_type": "code",
   "execution_count": null,
   "id": "fdef5726",
   "metadata": {
    "extensions": {
     "jupyter_dashboards": {
      "version": 1,
      "views": {
       "default_view": {
        "hidden": true
       }
      }
     }
    }
   },
   "outputs": [],
   "source": []
  }
 ],
 "metadata": {
  "extensions": {
   "jupyter_dashboards": {
    "activeView": "default_view",
    "version": 1,
    "views": {
     "default_view": {
      "cellMargin": 10,
      "defaultCellHeight": 40,
      "maxColumns": 12,
      "name": "active_view",
      "type": "grid"
     }
    }
   }
  },
  "kernelspec": {
   "display_name": "Python 3 (ipykernel)",
   "language": "python",
   "name": "python3"
  },
  "language_info": {
   "codemirror_mode": {
    "name": "ipython",
    "version": 3
   },
   "file_extension": ".py",
   "mimetype": "text/x-python",
   "name": "python",
   "nbconvert_exporter": "python",
   "pygments_lexer": "ipython3",
   "version": "3.9.7"
  }
 },
 "nbformat": 4,
 "nbformat_minor": 5
}
