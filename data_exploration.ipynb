{
 "cells": [
  {
   "cell_type": "markdown",
   "id": "9cd2fa35",
   "metadata": {
    "extensions": {
     "jupyter_dashboards": {
      "version": 1,
      "views": {
       "default_view": {
        "col": 0,
        "height": 2,
        "row": 0,
        "width": 12
       }
      }
     }
    }
   },
   "source": [
    "## Exploring the F1 Dataset\n",
    "\n",
    "- This dataset contains up to date information (updated via API) about F1 races from 1950 till 2021 (the most recent race being the Qatar Grand Prix)\n",
    "- The dataset contains 13 CSV files each containing detailed information about each race and performance of each driver and team.\n",
    "- I've tried exploring this dataset and made a couple of visualizations that made sense to me. The next steps would be to add interactivity to all the graphs and generate further visualizations, giving us more insignt on the dataset.\n",
    "- I've added comments wherever possible - this helps my thought process and also anyone else who might view this notebook get a better understanding of what I'm trying to achieve.\n",
    "\n",
    "Link: http://ergast.com/mrd/db/"
   ]
  },
  {
   "cell_type": "code",
   "execution_count": 2,
   "id": "f52487e9",
   "metadata": {
    "extensions": {
     "jupyter_dashboards": {
      "version": 1,
      "views": {
       "default_view": {
        "hidden": true
       }
      }
     }
    }
   },
   "outputs": [],
   "source": [
    "import os\n",
    "import numpy as np\n",
    "import pandas as pd\n",
    "import matplotlib.pyplot as plt\n",
    "from datetime import datetime\n",
    "\n",
    "data_path = \"./data\""
   ]
  },
  {
   "cell_type": "code",
   "execution_count": 3,
   "id": "bdc983f0",
   "metadata": {
    "extensions": {
     "jupyter_dashboards": {
      "version": 1,
      "views": {
       "default_view": {
        "col": 0,
        "height": 2,
        "row": 4,
        "width": 12
       }
      }
     }
    }
   },
   "outputs": [
    {
     "name": "stdout",
     "output_type": "stream",
     "text": [
      "circuits.csv\n",
      "status.csv\n",
      "lap_times.csv\n",
      "drivers.csv\n",
      "races.csv\n",
      "constructors.csv\n",
      "constructor_standings.csv\n",
      "qualifying.csv\n",
      "driver_standings.csv\n",
      "constructor_results.csv\n",
      "pit_stops.csv\n",
      "seasons.csv\n",
      "results.csv\n"
     ]
    }
   ],
   "source": [
    "# List all available data files\n",
    "for file in os.listdir(data_path):\n",
    "    print(file)"
   ]
  },
  {
   "cell_type": "code",
   "execution_count": 4,
   "id": "d16cebab",
   "metadata": {
    "extensions": {
     "jupyter_dashboards": {
      "version": 1,
      "views": {
       "default_view": {
        "hidden": true
       }
      }
     }
    }
   },
   "outputs": [],
   "source": [
    "# Dataset Exploration\n",
    "# List all the columns in each file\n",
    "\n",
    "files_and_columns = {}\n",
    "for file in os.listdir(data_path):\n",
    "    df = pd.read_csv(os.path.join(data_path, file))\n",
    "    files_and_columns[file] = list(df.columns)"
   ]
  },
  {
   "cell_type": "code",
   "execution_count": 5,
   "id": "6ef801c2",
   "metadata": {
    "extensions": {
     "jupyter_dashboards": {
      "version": 1,
      "views": {
       "default_view": {
        "col": 0,
        "height": 2,
        "row": 8,
        "width": 12
       }
      }
     }
    },
    "scrolled": true
   },
   "outputs": [
    {
     "data": {
      "text/plain": [
       "{'circuits.csv': ['circuitId',\n",
       "  'circuitRef',\n",
       "  'name',\n",
       "  'location',\n",
       "  'country',\n",
       "  'lat',\n",
       "  'lng',\n",
       "  'alt',\n",
       "  'url'],\n",
       " 'status.csv': ['statusId', 'status'],\n",
       " 'lap_times.csv': ['raceId',\n",
       "  'driverId',\n",
       "  'lap',\n",
       "  'position',\n",
       "  'time',\n",
       "  'milliseconds'],\n",
       " 'drivers.csv': ['driverId',\n",
       "  'driverRef',\n",
       "  'number',\n",
       "  'code',\n",
       "  'forename',\n",
       "  'surname',\n",
       "  'dob',\n",
       "  'nationality',\n",
       "  'url'],\n",
       " 'races.csv': ['raceId',\n",
       "  'year',\n",
       "  'round',\n",
       "  'circuitId',\n",
       "  'name',\n",
       "  'date',\n",
       "  'time',\n",
       "  'url'],\n",
       " 'constructors.csv': ['constructorId',\n",
       "  'constructorRef',\n",
       "  'name',\n",
       "  'nationality',\n",
       "  'url'],\n",
       " 'constructor_standings.csv': ['constructorStandingsId',\n",
       "  'raceId',\n",
       "  'constructorId',\n",
       "  'points',\n",
       "  'position',\n",
       "  'positionText',\n",
       "  'wins'],\n",
       " 'qualifying.csv': ['qualifyId',\n",
       "  'raceId',\n",
       "  'driverId',\n",
       "  'constructorId',\n",
       "  'number',\n",
       "  'position',\n",
       "  'q1',\n",
       "  'q2',\n",
       "  'q3'],\n",
       " 'driver_standings.csv': ['driverStandingsId',\n",
       "  'raceId',\n",
       "  'driverId',\n",
       "  'points',\n",
       "  'position',\n",
       "  'positionText',\n",
       "  'wins'],\n",
       " 'constructor_results.csv': ['constructorResultsId',\n",
       "  'raceId',\n",
       "  'constructorId',\n",
       "  'points',\n",
       "  'status'],\n",
       " 'pit_stops.csv': ['raceId',\n",
       "  'driverId',\n",
       "  'stop',\n",
       "  'lap',\n",
       "  'time',\n",
       "  'duration',\n",
       "  'milliseconds'],\n",
       " 'seasons.csv': ['year', 'url'],\n",
       " 'results.csv': ['resultId',\n",
       "  'raceId',\n",
       "  'driverId',\n",
       "  'constructorId',\n",
       "  'number',\n",
       "  'grid',\n",
       "  'position',\n",
       "  'positionText',\n",
       "  'positionOrder',\n",
       "  'points',\n",
       "  'laps',\n",
       "  'time',\n",
       "  'milliseconds',\n",
       "  'fastestLap',\n",
       "  'rank',\n",
       "  'fastestLapTime',\n",
       "  'fastestLapSpeed',\n",
       "  'statusId']}"
      ]
     },
     "execution_count": 5,
     "metadata": {},
     "output_type": "execute_result"
    }
   ],
   "source": [
    "files_and_columns"
   ]
  },
  {
   "cell_type": "code",
   "execution_count": 6,
   "id": "6fc7b639",
   "metadata": {
    "extensions": {
     "jupyter_dashboards": {
      "version": 1,
      "views": {
       "default_view": {
        "hidden": true
       }
      }
     }
    }
   },
   "outputs": [],
   "source": [
    "df_status = pd.read_csv(os.path.join(data_path, \"status.csv\"))"
   ]
  },
  {
   "cell_type": "code",
   "execution_count": 7,
   "id": "a6bc0767",
   "metadata": {
    "extensions": {
     "jupyter_dashboards": {
      "version": 1,
      "views": {
       "default_view": {
        "col": 0,
        "height": 2,
        "row": 12,
        "width": 12
       }
      }
     }
    }
   },
   "outputs": [
    {
     "data": {
      "text/html": [
       "<div>\n",
       "<style scoped>\n",
       "    .dataframe tbody tr th:only-of-type {\n",
       "        vertical-align: middle;\n",
       "    }\n",
       "\n",
       "    .dataframe tbody tr th {\n",
       "        vertical-align: top;\n",
       "    }\n",
       "\n",
       "    .dataframe thead th {\n",
       "        text-align: right;\n",
       "    }\n",
       "</style>\n",
       "<table border=\"1\" class=\"dataframe\">\n",
       "  <thead>\n",
       "    <tr style=\"text-align: right;\">\n",
       "      <th></th>\n",
       "      <th>statusId</th>\n",
       "      <th>status</th>\n",
       "    </tr>\n",
       "  </thead>\n",
       "  <tbody>\n",
       "    <tr>\n",
       "      <th>0</th>\n",
       "      <td>1</td>\n",
       "      <td>Finished</td>\n",
       "    </tr>\n",
       "    <tr>\n",
       "      <th>1</th>\n",
       "      <td>2</td>\n",
       "      <td>Disqualified</td>\n",
       "    </tr>\n",
       "    <tr>\n",
       "      <th>2</th>\n",
       "      <td>3</td>\n",
       "      <td>Accident</td>\n",
       "    </tr>\n",
       "    <tr>\n",
       "      <th>3</th>\n",
       "      <td>4</td>\n",
       "      <td>Collision</td>\n",
       "    </tr>\n",
       "    <tr>\n",
       "      <th>4</th>\n",
       "      <td>5</td>\n",
       "      <td>Engine</td>\n",
       "    </tr>\n",
       "  </tbody>\n",
       "</table>\n",
       "</div>"
      ],
      "text/plain": [
       "   statusId        status\n",
       "0         1      Finished\n",
       "1         2  Disqualified\n",
       "2         3      Accident\n",
       "3         4     Collision\n",
       "4         5        Engine"
      ]
     },
     "execution_count": 7,
     "metadata": {},
     "output_type": "execute_result"
    }
   ],
   "source": [
    "df_status.head()"
   ]
  },
  {
   "cell_type": "code",
   "execution_count": 8,
   "id": "4c5e3ad3",
   "metadata": {
    "extensions": {
     "jupyter_dashboards": {
      "version": 1,
      "views": {
       "default_view": {
        "hidden": true
       }
      }
     }
    }
   },
   "outputs": [],
   "source": [
    "df_laptimes = pd.read_csv(os.path.join(data_path, \"lap_times.csv\"))"
   ]
  },
  {
   "cell_type": "code",
   "execution_count": 9,
   "id": "a96f729e",
   "metadata": {
    "extensions": {
     "jupyter_dashboards": {
      "version": 1,
      "views": {
       "default_view": {
        "col": 0,
        "height": 2,
        "row": 16,
        "width": 12
       }
      }
     }
    }
   },
   "outputs": [
    {
     "data": {
      "text/html": [
       "<div>\n",
       "<style scoped>\n",
       "    .dataframe tbody tr th:only-of-type {\n",
       "        vertical-align: middle;\n",
       "    }\n",
       "\n",
       "    .dataframe tbody tr th {\n",
       "        vertical-align: top;\n",
       "    }\n",
       "\n",
       "    .dataframe thead th {\n",
       "        text-align: right;\n",
       "    }\n",
       "</style>\n",
       "<table border=\"1\" class=\"dataframe\">\n",
       "  <thead>\n",
       "    <tr style=\"text-align: right;\">\n",
       "      <th></th>\n",
       "      <th>raceId</th>\n",
       "      <th>driverId</th>\n",
       "      <th>lap</th>\n",
       "      <th>position</th>\n",
       "      <th>time</th>\n",
       "      <th>milliseconds</th>\n",
       "    </tr>\n",
       "  </thead>\n",
       "  <tbody>\n",
       "    <tr>\n",
       "      <th>0</th>\n",
       "      <td>841</td>\n",
       "      <td>20</td>\n",
       "      <td>1</td>\n",
       "      <td>1</td>\n",
       "      <td>1:38.109</td>\n",
       "      <td>98109</td>\n",
       "    </tr>\n",
       "    <tr>\n",
       "      <th>1</th>\n",
       "      <td>841</td>\n",
       "      <td>20</td>\n",
       "      <td>2</td>\n",
       "      <td>1</td>\n",
       "      <td>1:33.006</td>\n",
       "      <td>93006</td>\n",
       "    </tr>\n",
       "    <tr>\n",
       "      <th>2</th>\n",
       "      <td>841</td>\n",
       "      <td>20</td>\n",
       "      <td>3</td>\n",
       "      <td>1</td>\n",
       "      <td>1:32.713</td>\n",
       "      <td>92713</td>\n",
       "    </tr>\n",
       "    <tr>\n",
       "      <th>3</th>\n",
       "      <td>841</td>\n",
       "      <td>20</td>\n",
       "      <td>4</td>\n",
       "      <td>1</td>\n",
       "      <td>1:32.803</td>\n",
       "      <td>92803</td>\n",
       "    </tr>\n",
       "    <tr>\n",
       "      <th>4</th>\n",
       "      <td>841</td>\n",
       "      <td>20</td>\n",
       "      <td>5</td>\n",
       "      <td>1</td>\n",
       "      <td>1:32.342</td>\n",
       "      <td>92342</td>\n",
       "    </tr>\n",
       "  </tbody>\n",
       "</table>\n",
       "</div>"
      ],
      "text/plain": [
       "   raceId  driverId  lap  position      time  milliseconds\n",
       "0     841        20    1         1  1:38.109         98109\n",
       "1     841        20    2         1  1:33.006         93006\n",
       "2     841        20    3         1  1:32.713         92713\n",
       "3     841        20    4         1  1:32.803         92803\n",
       "4     841        20    5         1  1:32.342         92342"
      ]
     },
     "execution_count": 9,
     "metadata": {},
     "output_type": "execute_result"
    }
   ],
   "source": [
    "df_laptimes.head()\n",
    "\n",
    "# we can see this doesn't have driver name. Next step would be to merge the driver name column to this\n",
    "# to make more meaningful visualizations"
   ]
  },
  {
   "cell_type": "code",
   "execution_count": 10,
   "id": "af7bc6ca",
   "metadata": {
    "extensions": {
     "jupyter_dashboards": {
      "version": 1,
      "views": {
       "default_view": {
        "hidden": true
       }
      }
     }
    }
   },
   "outputs": [],
   "source": [
    "df_drivers = pd.read_csv(os.path.join(data_path, \"drivers.csv\"))"
   ]
  },
  {
   "cell_type": "code",
   "execution_count": 11,
   "id": "441394d9",
   "metadata": {
    "extensions": {
     "jupyter_dashboards": {
      "version": 1,
      "views": {
       "default_view": {
        "col": 0,
        "height": 2,
        "row": 20,
        "width": 12
       }
      }
     }
    }
   },
   "outputs": [
    {
     "data": {
      "text/html": [
       "<div>\n",
       "<style scoped>\n",
       "    .dataframe tbody tr th:only-of-type {\n",
       "        vertical-align: middle;\n",
       "    }\n",
       "\n",
       "    .dataframe tbody tr th {\n",
       "        vertical-align: top;\n",
       "    }\n",
       "\n",
       "    .dataframe thead th {\n",
       "        text-align: right;\n",
       "    }\n",
       "</style>\n",
       "<table border=\"1\" class=\"dataframe\">\n",
       "  <thead>\n",
       "    <tr style=\"text-align: right;\">\n",
       "      <th></th>\n",
       "      <th>driverId</th>\n",
       "      <th>driverRef</th>\n",
       "      <th>number</th>\n",
       "      <th>code</th>\n",
       "      <th>forename</th>\n",
       "      <th>surname</th>\n",
       "      <th>dob</th>\n",
       "      <th>nationality</th>\n",
       "      <th>url</th>\n",
       "    </tr>\n",
       "  </thead>\n",
       "  <tbody>\n",
       "    <tr>\n",
       "      <th>0</th>\n",
       "      <td>1</td>\n",
       "      <td>hamilton</td>\n",
       "      <td>44</td>\n",
       "      <td>HAM</td>\n",
       "      <td>Lewis</td>\n",
       "      <td>Hamilton</td>\n",
       "      <td>1985-01-07</td>\n",
       "      <td>British</td>\n",
       "      <td>http://en.wikipedia.org/wiki/Lewis_Hamilton</td>\n",
       "    </tr>\n",
       "    <tr>\n",
       "      <th>1</th>\n",
       "      <td>2</td>\n",
       "      <td>heidfeld</td>\n",
       "      <td>\\N</td>\n",
       "      <td>HEI</td>\n",
       "      <td>Nick</td>\n",
       "      <td>Heidfeld</td>\n",
       "      <td>1977-05-10</td>\n",
       "      <td>German</td>\n",
       "      <td>http://en.wikipedia.org/wiki/Nick_Heidfeld</td>\n",
       "    </tr>\n",
       "    <tr>\n",
       "      <th>2</th>\n",
       "      <td>3</td>\n",
       "      <td>rosberg</td>\n",
       "      <td>6</td>\n",
       "      <td>ROS</td>\n",
       "      <td>Nico</td>\n",
       "      <td>Rosberg</td>\n",
       "      <td>1985-06-27</td>\n",
       "      <td>German</td>\n",
       "      <td>http://en.wikipedia.org/wiki/Nico_Rosberg</td>\n",
       "    </tr>\n",
       "    <tr>\n",
       "      <th>3</th>\n",
       "      <td>4</td>\n",
       "      <td>alonso</td>\n",
       "      <td>14</td>\n",
       "      <td>ALO</td>\n",
       "      <td>Fernando</td>\n",
       "      <td>Alonso</td>\n",
       "      <td>1981-07-29</td>\n",
       "      <td>Spanish</td>\n",
       "      <td>http://en.wikipedia.org/wiki/Fernando_Alonso</td>\n",
       "    </tr>\n",
       "    <tr>\n",
       "      <th>4</th>\n",
       "      <td>5</td>\n",
       "      <td>kovalainen</td>\n",
       "      <td>\\N</td>\n",
       "      <td>KOV</td>\n",
       "      <td>Heikki</td>\n",
       "      <td>Kovalainen</td>\n",
       "      <td>1981-10-19</td>\n",
       "      <td>Finnish</td>\n",
       "      <td>http://en.wikipedia.org/wiki/Heikki_Kovalainen</td>\n",
       "    </tr>\n",
       "  </tbody>\n",
       "</table>\n",
       "</div>"
      ],
      "text/plain": [
       "   driverId   driverRef number code  forename     surname         dob  \\\n",
       "0         1    hamilton     44  HAM     Lewis    Hamilton  1985-01-07   \n",
       "1         2    heidfeld     \\N  HEI      Nick    Heidfeld  1977-05-10   \n",
       "2         3     rosberg      6  ROS      Nico     Rosberg  1985-06-27   \n",
       "3         4      alonso     14  ALO  Fernando      Alonso  1981-07-29   \n",
       "4         5  kovalainen     \\N  KOV    Heikki  Kovalainen  1981-10-19   \n",
       "\n",
       "  nationality                                             url  \n",
       "0     British     http://en.wikipedia.org/wiki/Lewis_Hamilton  \n",
       "1      German      http://en.wikipedia.org/wiki/Nick_Heidfeld  \n",
       "2      German       http://en.wikipedia.org/wiki/Nico_Rosberg  \n",
       "3     Spanish    http://en.wikipedia.org/wiki/Fernando_Alonso  \n",
       "4     Finnish  http://en.wikipedia.org/wiki/Heikki_Kovalainen  "
      ]
     },
     "execution_count": 11,
     "metadata": {},
     "output_type": "execute_result"
    }
   ],
   "source": [
    "df_drivers.head()"
   ]
  },
  {
   "cell_type": "code",
   "execution_count": 12,
   "id": "183e73ff",
   "metadata": {
    "extensions": {
     "jupyter_dashboards": {
      "version": 1,
      "views": {
       "default_view": {
        "hidden": true
       }
      }
     }
    }
   },
   "outputs": [],
   "source": [
    "# make a column with driver full name (merge first and last name)\n",
    "df_drivers[\"full_name\"] = \"\"\n",
    "\n",
    "for i in df_drivers.index:\n",
    "    df_drivers.loc[i, \"full_name\"] =  df_drivers.loc[i, \"forename\"] + \" \" + df_drivers.loc[i, \"surname\"]"
   ]
  },
  {
   "cell_type": "code",
   "execution_count": 13,
   "id": "c29807da",
   "metadata": {
    "extensions": {
     "jupyter_dashboards": {
      "version": 1,
      "views": {
       "default_view": {
        "col": 0,
        "height": 2,
        "row": 24,
        "width": 12
       }
      }
     }
    }
   },
   "outputs": [
    {
     "data": {
      "text/html": [
       "<div>\n",
       "<style scoped>\n",
       "    .dataframe tbody tr th:only-of-type {\n",
       "        vertical-align: middle;\n",
       "    }\n",
       "\n",
       "    .dataframe tbody tr th {\n",
       "        vertical-align: top;\n",
       "    }\n",
       "\n",
       "    .dataframe thead th {\n",
       "        text-align: right;\n",
       "    }\n",
       "</style>\n",
       "<table border=\"1\" class=\"dataframe\">\n",
       "  <thead>\n",
       "    <tr style=\"text-align: right;\">\n",
       "      <th></th>\n",
       "      <th>driverId</th>\n",
       "      <th>driverRef</th>\n",
       "      <th>number</th>\n",
       "      <th>code</th>\n",
       "      <th>forename</th>\n",
       "      <th>surname</th>\n",
       "      <th>dob</th>\n",
       "      <th>nationality</th>\n",
       "      <th>url</th>\n",
       "      <th>full_name</th>\n",
       "    </tr>\n",
       "  </thead>\n",
       "  <tbody>\n",
       "    <tr>\n",
       "      <th>0</th>\n",
       "      <td>1</td>\n",
       "      <td>hamilton</td>\n",
       "      <td>44</td>\n",
       "      <td>HAM</td>\n",
       "      <td>Lewis</td>\n",
       "      <td>Hamilton</td>\n",
       "      <td>1985-01-07</td>\n",
       "      <td>British</td>\n",
       "      <td>http://en.wikipedia.org/wiki/Lewis_Hamilton</td>\n",
       "      <td>Lewis Hamilton</td>\n",
       "    </tr>\n",
       "    <tr>\n",
       "      <th>1</th>\n",
       "      <td>2</td>\n",
       "      <td>heidfeld</td>\n",
       "      <td>\\N</td>\n",
       "      <td>HEI</td>\n",
       "      <td>Nick</td>\n",
       "      <td>Heidfeld</td>\n",
       "      <td>1977-05-10</td>\n",
       "      <td>German</td>\n",
       "      <td>http://en.wikipedia.org/wiki/Nick_Heidfeld</td>\n",
       "      <td>Nick Heidfeld</td>\n",
       "    </tr>\n",
       "    <tr>\n",
       "      <th>2</th>\n",
       "      <td>3</td>\n",
       "      <td>rosberg</td>\n",
       "      <td>6</td>\n",
       "      <td>ROS</td>\n",
       "      <td>Nico</td>\n",
       "      <td>Rosberg</td>\n",
       "      <td>1985-06-27</td>\n",
       "      <td>German</td>\n",
       "      <td>http://en.wikipedia.org/wiki/Nico_Rosberg</td>\n",
       "      <td>Nico Rosberg</td>\n",
       "    </tr>\n",
       "    <tr>\n",
       "      <th>3</th>\n",
       "      <td>4</td>\n",
       "      <td>alonso</td>\n",
       "      <td>14</td>\n",
       "      <td>ALO</td>\n",
       "      <td>Fernando</td>\n",
       "      <td>Alonso</td>\n",
       "      <td>1981-07-29</td>\n",
       "      <td>Spanish</td>\n",
       "      <td>http://en.wikipedia.org/wiki/Fernando_Alonso</td>\n",
       "      <td>Fernando Alonso</td>\n",
       "    </tr>\n",
       "    <tr>\n",
       "      <th>4</th>\n",
       "      <td>5</td>\n",
       "      <td>kovalainen</td>\n",
       "      <td>\\N</td>\n",
       "      <td>KOV</td>\n",
       "      <td>Heikki</td>\n",
       "      <td>Kovalainen</td>\n",
       "      <td>1981-10-19</td>\n",
       "      <td>Finnish</td>\n",
       "      <td>http://en.wikipedia.org/wiki/Heikki_Kovalainen</td>\n",
       "      <td>Heikki Kovalainen</td>\n",
       "    </tr>\n",
       "    <tr>\n",
       "      <th>...</th>\n",
       "      <td>...</td>\n",
       "      <td>...</td>\n",
       "      <td>...</td>\n",
       "      <td>...</td>\n",
       "      <td>...</td>\n",
       "      <td>...</td>\n",
       "      <td>...</td>\n",
       "      <td>...</td>\n",
       "      <td>...</td>\n",
       "      <td>...</td>\n",
       "    </tr>\n",
       "    <tr>\n",
       "      <th>848</th>\n",
       "      <td>850</td>\n",
       "      <td>pietro_fittipaldi</td>\n",
       "      <td>51</td>\n",
       "      <td>FIT</td>\n",
       "      <td>Pietro</td>\n",
       "      <td>Fittipaldi</td>\n",
       "      <td>1996-06-25</td>\n",
       "      <td>Brazilian</td>\n",
       "      <td>http://en.wikipedia.org/wiki/Pietro_Fittipaldi</td>\n",
       "      <td>Pietro Fittipaldi</td>\n",
       "    </tr>\n",
       "    <tr>\n",
       "      <th>849</th>\n",
       "      <td>851</td>\n",
       "      <td>aitken</td>\n",
       "      <td>89</td>\n",
       "      <td>AIT</td>\n",
       "      <td>Jack</td>\n",
       "      <td>Aitken</td>\n",
       "      <td>1995-09-23</td>\n",
       "      <td>British</td>\n",
       "      <td>http://en.wikipedia.org/wiki/Jack_Aitken</td>\n",
       "      <td>Jack Aitken</td>\n",
       "    </tr>\n",
       "    <tr>\n",
       "      <th>850</th>\n",
       "      <td>852</td>\n",
       "      <td>tsunoda</td>\n",
       "      <td>22</td>\n",
       "      <td>TSU</td>\n",
       "      <td>Yuki</td>\n",
       "      <td>Tsunoda</td>\n",
       "      <td>2000-05-11</td>\n",
       "      <td>Japanese</td>\n",
       "      <td>http://en.wikipedia.org/wiki/Yuki_Tsunoda</td>\n",
       "      <td>Yuki Tsunoda</td>\n",
       "    </tr>\n",
       "    <tr>\n",
       "      <th>851</th>\n",
       "      <td>853</td>\n",
       "      <td>mazepin</td>\n",
       "      <td>9</td>\n",
       "      <td>MAZ</td>\n",
       "      <td>Nikita</td>\n",
       "      <td>Mazepin</td>\n",
       "      <td>1999-03-02</td>\n",
       "      <td>Russian</td>\n",
       "      <td>http://en.wikipedia.org/wiki/Nikita_Mazepin</td>\n",
       "      <td>Nikita Mazepin</td>\n",
       "    </tr>\n",
       "    <tr>\n",
       "      <th>852</th>\n",
       "      <td>854</td>\n",
       "      <td>mick_schumacher</td>\n",
       "      <td>47</td>\n",
       "      <td>MSC</td>\n",
       "      <td>Mick</td>\n",
       "      <td>Schumacher</td>\n",
       "      <td>1999-03-22</td>\n",
       "      <td>German</td>\n",
       "      <td>http://en.wikipedia.org/wiki/Mick_Schumacher</td>\n",
       "      <td>Mick Schumacher</td>\n",
       "    </tr>\n",
       "  </tbody>\n",
       "</table>\n",
       "<p>853 rows × 10 columns</p>\n",
       "</div>"
      ],
      "text/plain": [
       "     driverId          driverRef number code  forename     surname  \\\n",
       "0           1           hamilton     44  HAM     Lewis    Hamilton   \n",
       "1           2           heidfeld     \\N  HEI      Nick    Heidfeld   \n",
       "2           3            rosberg      6  ROS      Nico     Rosberg   \n",
       "3           4             alonso     14  ALO  Fernando      Alonso   \n",
       "4           5         kovalainen     \\N  KOV    Heikki  Kovalainen   \n",
       "..        ...                ...    ...  ...       ...         ...   \n",
       "848       850  pietro_fittipaldi     51  FIT    Pietro  Fittipaldi   \n",
       "849       851             aitken     89  AIT      Jack      Aitken   \n",
       "850       852            tsunoda     22  TSU      Yuki     Tsunoda   \n",
       "851       853            mazepin      9  MAZ    Nikita     Mazepin   \n",
       "852       854    mick_schumacher     47  MSC      Mick  Schumacher   \n",
       "\n",
       "            dob nationality                                             url  \\\n",
       "0    1985-01-07     British     http://en.wikipedia.org/wiki/Lewis_Hamilton   \n",
       "1    1977-05-10      German      http://en.wikipedia.org/wiki/Nick_Heidfeld   \n",
       "2    1985-06-27      German       http://en.wikipedia.org/wiki/Nico_Rosberg   \n",
       "3    1981-07-29     Spanish    http://en.wikipedia.org/wiki/Fernando_Alonso   \n",
       "4    1981-10-19     Finnish  http://en.wikipedia.org/wiki/Heikki_Kovalainen   \n",
       "..          ...         ...                                             ...   \n",
       "848  1996-06-25   Brazilian  http://en.wikipedia.org/wiki/Pietro_Fittipaldi   \n",
       "849  1995-09-23     British        http://en.wikipedia.org/wiki/Jack_Aitken   \n",
       "850  2000-05-11    Japanese       http://en.wikipedia.org/wiki/Yuki_Tsunoda   \n",
       "851  1999-03-02     Russian     http://en.wikipedia.org/wiki/Nikita_Mazepin   \n",
       "852  1999-03-22      German    http://en.wikipedia.org/wiki/Mick_Schumacher   \n",
       "\n",
       "             full_name  \n",
       "0       Lewis Hamilton  \n",
       "1        Nick Heidfeld  \n",
       "2         Nico Rosberg  \n",
       "3      Fernando Alonso  \n",
       "4    Heikki Kovalainen  \n",
       "..                 ...  \n",
       "848  Pietro Fittipaldi  \n",
       "849        Jack Aitken  \n",
       "850       Yuki Tsunoda  \n",
       "851     Nikita Mazepin  \n",
       "852    Mick Schumacher  \n",
       "\n",
       "[853 rows x 10 columns]"
      ]
     },
     "execution_count": 13,
     "metadata": {},
     "output_type": "execute_result"
    }
   ],
   "source": [
    "df_drivers"
   ]
  },
  {
   "cell_type": "code",
   "execution_count": 14,
   "id": "a1beef45",
   "metadata": {
    "extensions": {
     "jupyter_dashboards": {
      "version": 1,
      "views": {
       "default_view": {
        "hidden": true
       }
      }
     }
    }
   },
   "outputs": [],
   "source": [
    "# merge full name with lap times according to driver id\n",
    "df_drivernames = df_drivers[[\"driverId\", \"full_name\"]]\n",
    "df_laptimes = df_laptimes.merge(df_drivernames, on=\"driverId\")"
   ]
  },
  {
   "cell_type": "code",
   "execution_count": 15,
   "id": "18f9e110",
   "metadata": {
    "extensions": {
     "jupyter_dashboards": {
      "version": 1,
      "views": {
       "default_view": {
        "col": 0,
        "height": 2,
        "row": 28,
        "width": 12
       }
      }
     }
    }
   },
   "outputs": [
    {
     "data": {
      "text/html": [
       "<div>\n",
       "<style scoped>\n",
       "    .dataframe tbody tr th:only-of-type {\n",
       "        vertical-align: middle;\n",
       "    }\n",
       "\n",
       "    .dataframe tbody tr th {\n",
       "        vertical-align: top;\n",
       "    }\n",
       "\n",
       "    .dataframe thead th {\n",
       "        text-align: right;\n",
       "    }\n",
       "</style>\n",
       "<table border=\"1\" class=\"dataframe\">\n",
       "  <thead>\n",
       "    <tr style=\"text-align: right;\">\n",
       "      <th></th>\n",
       "      <th>raceId</th>\n",
       "      <th>year</th>\n",
       "      <th>round</th>\n",
       "      <th>circuitId</th>\n",
       "      <th>name</th>\n",
       "      <th>date</th>\n",
       "      <th>time</th>\n",
       "      <th>url</th>\n",
       "    </tr>\n",
       "  </thead>\n",
       "  <tbody>\n",
       "    <tr>\n",
       "      <th>0</th>\n",
       "      <td>1</td>\n",
       "      <td>2009</td>\n",
       "      <td>1</td>\n",
       "      <td>1</td>\n",
       "      <td>Australian Grand Prix</td>\n",
       "      <td>2009-03-29</td>\n",
       "      <td>06:00:00</td>\n",
       "      <td>http://en.wikipedia.org/wiki/2009_Australian_G...</td>\n",
       "    </tr>\n",
       "    <tr>\n",
       "      <th>1</th>\n",
       "      <td>2</td>\n",
       "      <td>2009</td>\n",
       "      <td>2</td>\n",
       "      <td>2</td>\n",
       "      <td>Malaysian Grand Prix</td>\n",
       "      <td>2009-04-05</td>\n",
       "      <td>09:00:00</td>\n",
       "      <td>http://en.wikipedia.org/wiki/2009_Malaysian_Gr...</td>\n",
       "    </tr>\n",
       "    <tr>\n",
       "      <th>2</th>\n",
       "      <td>3</td>\n",
       "      <td>2009</td>\n",
       "      <td>3</td>\n",
       "      <td>17</td>\n",
       "      <td>Chinese Grand Prix</td>\n",
       "      <td>2009-04-19</td>\n",
       "      <td>07:00:00</td>\n",
       "      <td>http://en.wikipedia.org/wiki/2009_Chinese_Gran...</td>\n",
       "    </tr>\n",
       "    <tr>\n",
       "      <th>3</th>\n",
       "      <td>4</td>\n",
       "      <td>2009</td>\n",
       "      <td>4</td>\n",
       "      <td>3</td>\n",
       "      <td>Bahrain Grand Prix</td>\n",
       "      <td>2009-04-26</td>\n",
       "      <td>12:00:00</td>\n",
       "      <td>http://en.wikipedia.org/wiki/2009_Bahrain_Gran...</td>\n",
       "    </tr>\n",
       "    <tr>\n",
       "      <th>4</th>\n",
       "      <td>5</td>\n",
       "      <td>2009</td>\n",
       "      <td>5</td>\n",
       "      <td>4</td>\n",
       "      <td>Spanish Grand Prix</td>\n",
       "      <td>2009-05-10</td>\n",
       "      <td>12:00:00</td>\n",
       "      <td>http://en.wikipedia.org/wiki/2009_Spanish_Gran...</td>\n",
       "    </tr>\n",
       "  </tbody>\n",
       "</table>\n",
       "</div>"
      ],
      "text/plain": [
       "   raceId  year  round  circuitId                   name        date  \\\n",
       "0       1  2009      1          1  Australian Grand Prix  2009-03-29   \n",
       "1       2  2009      2          2   Malaysian Grand Prix  2009-04-05   \n",
       "2       3  2009      3         17     Chinese Grand Prix  2009-04-19   \n",
       "3       4  2009      4          3     Bahrain Grand Prix  2009-04-26   \n",
       "4       5  2009      5          4     Spanish Grand Prix  2009-05-10   \n",
       "\n",
       "       time                                                url  \n",
       "0  06:00:00  http://en.wikipedia.org/wiki/2009_Australian_G...  \n",
       "1  09:00:00  http://en.wikipedia.org/wiki/2009_Malaysian_Gr...  \n",
       "2  07:00:00  http://en.wikipedia.org/wiki/2009_Chinese_Gran...  \n",
       "3  12:00:00  http://en.wikipedia.org/wiki/2009_Bahrain_Gran...  \n",
       "4  12:00:00  http://en.wikipedia.org/wiki/2009_Spanish_Gran...  "
      ]
     },
     "execution_count": 15,
     "metadata": {},
     "output_type": "execute_result"
    }
   ],
   "source": [
    "# merge race names with lap times according to race id\n",
    "df_races = pd.read_csv(os.path.join(data_path, \"races.csv\"))\n",
    "df_races.head()"
   ]
  },
  {
   "cell_type": "code",
   "execution_count": 16,
   "id": "7e1b8dd5",
   "metadata": {
    "extensions": {
     "jupyter_dashboards": {
      "version": 1,
      "views": {
       "default_view": {
        "hidden": true
       }
      }
     }
    }
   },
   "outputs": [],
   "source": [
    "df_laptimes = df_laptimes.merge(df_races[[\"raceId\", \"name\", \"year\"]], on=\"raceId\")"
   ]
  },
  {
   "cell_type": "code",
   "execution_count": 17,
   "id": "b29b8ee5",
   "metadata": {
    "extensions": {
     "jupyter_dashboards": {
      "version": 1,
      "views": {
       "default_view": {
        "col": 0,
        "height": 2,
        "row": 32,
        "width": 12
       }
      }
     }
    }
   },
   "outputs": [
    {
     "data": {
      "text/html": [
       "<div>\n",
       "<style scoped>\n",
       "    .dataframe tbody tr th:only-of-type {\n",
       "        vertical-align: middle;\n",
       "    }\n",
       "\n",
       "    .dataframe tbody tr th {\n",
       "        vertical-align: top;\n",
       "    }\n",
       "\n",
       "    .dataframe thead th {\n",
       "        text-align: right;\n",
       "    }\n",
       "</style>\n",
       "<table border=\"1\" class=\"dataframe\">\n",
       "  <thead>\n",
       "    <tr style=\"text-align: right;\">\n",
       "      <th></th>\n",
       "      <th>raceId</th>\n",
       "      <th>driverId</th>\n",
       "      <th>lap</th>\n",
       "      <th>position</th>\n",
       "      <th>time</th>\n",
       "      <th>milliseconds</th>\n",
       "      <th>full_name</th>\n",
       "      <th>name</th>\n",
       "      <th>year</th>\n",
       "    </tr>\n",
       "  </thead>\n",
       "  <tbody>\n",
       "    <tr>\n",
       "      <th>0</th>\n",
       "      <td>841</td>\n",
       "      <td>20</td>\n",
       "      <td>1</td>\n",
       "      <td>1</td>\n",
       "      <td>1:38.109</td>\n",
       "      <td>98109</td>\n",
       "      <td>Sebastian Vettel</td>\n",
       "      <td>Australian Grand Prix</td>\n",
       "      <td>2011</td>\n",
       "    </tr>\n",
       "    <tr>\n",
       "      <th>1</th>\n",
       "      <td>841</td>\n",
       "      <td>20</td>\n",
       "      <td>2</td>\n",
       "      <td>1</td>\n",
       "      <td>1:33.006</td>\n",
       "      <td>93006</td>\n",
       "      <td>Sebastian Vettel</td>\n",
       "      <td>Australian Grand Prix</td>\n",
       "      <td>2011</td>\n",
       "    </tr>\n",
       "    <tr>\n",
       "      <th>2</th>\n",
       "      <td>841</td>\n",
       "      <td>20</td>\n",
       "      <td>3</td>\n",
       "      <td>1</td>\n",
       "      <td>1:32.713</td>\n",
       "      <td>92713</td>\n",
       "      <td>Sebastian Vettel</td>\n",
       "      <td>Australian Grand Prix</td>\n",
       "      <td>2011</td>\n",
       "    </tr>\n",
       "    <tr>\n",
       "      <th>3</th>\n",
       "      <td>841</td>\n",
       "      <td>20</td>\n",
       "      <td>4</td>\n",
       "      <td>1</td>\n",
       "      <td>1:32.803</td>\n",
       "      <td>92803</td>\n",
       "      <td>Sebastian Vettel</td>\n",
       "      <td>Australian Grand Prix</td>\n",
       "      <td>2011</td>\n",
       "    </tr>\n",
       "    <tr>\n",
       "      <th>4</th>\n",
       "      <td>841</td>\n",
       "      <td>20</td>\n",
       "      <td>5</td>\n",
       "      <td>1</td>\n",
       "      <td>1:32.342</td>\n",
       "      <td>92342</td>\n",
       "      <td>Sebastian Vettel</td>\n",
       "      <td>Australian Grand Prix</td>\n",
       "      <td>2011</td>\n",
       "    </tr>\n",
       "  </tbody>\n",
       "</table>\n",
       "</div>"
      ],
      "text/plain": [
       "   raceId  driverId  lap  position      time  milliseconds         full_name  \\\n",
       "0     841        20    1         1  1:38.109         98109  Sebastian Vettel   \n",
       "1     841        20    2         1  1:33.006         93006  Sebastian Vettel   \n",
       "2     841        20    3         1  1:32.713         92713  Sebastian Vettel   \n",
       "3     841        20    4         1  1:32.803         92803  Sebastian Vettel   \n",
       "4     841        20    5         1  1:32.342         92342  Sebastian Vettel   \n",
       "\n",
       "                    name  year  \n",
       "0  Australian Grand Prix  2011  \n",
       "1  Australian Grand Prix  2011  \n",
       "2  Australian Grand Prix  2011  \n",
       "3  Australian Grand Prix  2011  \n",
       "4  Australian Grand Prix  2011  "
      ]
     },
     "execution_count": 17,
     "metadata": {},
     "output_type": "execute_result"
    }
   ],
   "source": [
    "df_laptimes.head()"
   ]
  },
  {
   "cell_type": "code",
   "execution_count": 18,
   "id": "f350e74d",
   "metadata": {
    "extensions": {
     "jupyter_dashboards": {
      "version": 1,
      "views": {
       "default_view": {
        "hidden": true
       }
      }
     }
    }
   },
   "outputs": [],
   "source": [
    "# visualizing lap times for race Australian Grand Prix for driver Sebastian Vettel in the year 2013\n",
    "df_seb_2013_au = df_laptimes[df_laptimes[\"full_name\"] == \"Sebastian Vettel\"]"
   ]
  },
  {
   "cell_type": "code",
   "execution_count": 19,
   "id": "c982f69b",
   "metadata": {
    "extensions": {
     "jupyter_dashboards": {
      "version": 1,
      "views": {
       "default_view": {
        "hidden": true
       }
      }
     }
    }
   },
   "outputs": [],
   "source": [
    "df_seb_2013_au = df_seb_2013_au[df_seb_2013_au[\"year\"] == 2013]\n",
    "df_seb_2013_au = df_seb_2013_au[df_seb_2013_au[\"name\"] == \"Australian Grand Prix\"]"
   ]
  },
  {
   "cell_type": "code",
   "execution_count": 20,
   "id": "4cbd94c7",
   "metadata": {
    "extensions": {
     "jupyter_dashboards": {
      "version": 1,
      "views": {
       "default_view": {
        "col": 0,
        "height": 2,
        "row": 38,
        "width": 12
       }
      }
     }
    }
   },
   "outputs": [
    {
     "data": {
      "text/html": [
       "<div>\n",
       "<style scoped>\n",
       "    .dataframe tbody tr th:only-of-type {\n",
       "        vertical-align: middle;\n",
       "    }\n",
       "\n",
       "    .dataframe tbody tr th {\n",
       "        vertical-align: top;\n",
       "    }\n",
       "\n",
       "    .dataframe thead th {\n",
       "        text-align: right;\n",
       "    }\n",
       "</style>\n",
       "<table border=\"1\" class=\"dataframe\">\n",
       "  <thead>\n",
       "    <tr style=\"text-align: right;\">\n",
       "      <th></th>\n",
       "      <th>raceId</th>\n",
       "      <th>driverId</th>\n",
       "      <th>lap</th>\n",
       "      <th>position</th>\n",
       "      <th>time</th>\n",
       "      <th>milliseconds</th>\n",
       "      <th>full_name</th>\n",
       "      <th>name</th>\n",
       "      <th>year</th>\n",
       "    </tr>\n",
       "  </thead>\n",
       "  <tbody>\n",
       "    <tr>\n",
       "      <th>50440</th>\n",
       "      <td>880</td>\n",
       "      <td>20</td>\n",
       "      <td>1</td>\n",
       "      <td>1</td>\n",
       "      <td>1:39.646</td>\n",
       "      <td>99646</td>\n",
       "      <td>Sebastian Vettel</td>\n",
       "      <td>Australian Grand Prix</td>\n",
       "      <td>2013</td>\n",
       "    </tr>\n",
       "    <tr>\n",
       "      <th>50441</th>\n",
       "      <td>880</td>\n",
       "      <td>20</td>\n",
       "      <td>2</td>\n",
       "      <td>1</td>\n",
       "      <td>1:33.106</td>\n",
       "      <td>93106</td>\n",
       "      <td>Sebastian Vettel</td>\n",
       "      <td>Australian Grand Prix</td>\n",
       "      <td>2013</td>\n",
       "    </tr>\n",
       "    <tr>\n",
       "      <th>50442</th>\n",
       "      <td>880</td>\n",
       "      <td>20</td>\n",
       "      <td>3</td>\n",
       "      <td>1</td>\n",
       "      <td>1:33.550</td>\n",
       "      <td>93550</td>\n",
       "      <td>Sebastian Vettel</td>\n",
       "      <td>Australian Grand Prix</td>\n",
       "      <td>2013</td>\n",
       "    </tr>\n",
       "    <tr>\n",
       "      <th>50443</th>\n",
       "      <td>880</td>\n",
       "      <td>20</td>\n",
       "      <td>4</td>\n",
       "      <td>1</td>\n",
       "      <td>1:34.374</td>\n",
       "      <td>94374</td>\n",
       "      <td>Sebastian Vettel</td>\n",
       "      <td>Australian Grand Prix</td>\n",
       "      <td>2013</td>\n",
       "    </tr>\n",
       "    <tr>\n",
       "      <th>50444</th>\n",
       "      <td>880</td>\n",
       "      <td>20</td>\n",
       "      <td>5</td>\n",
       "      <td>1</td>\n",
       "      <td>1:34.496</td>\n",
       "      <td>94496</td>\n",
       "      <td>Sebastian Vettel</td>\n",
       "      <td>Australian Grand Prix</td>\n",
       "      <td>2013</td>\n",
       "    </tr>\n",
       "  </tbody>\n",
       "</table>\n",
       "</div>"
      ],
      "text/plain": [
       "       raceId  driverId  lap  position      time  milliseconds  \\\n",
       "50440     880        20    1         1  1:39.646         99646   \n",
       "50441     880        20    2         1  1:33.106         93106   \n",
       "50442     880        20    3         1  1:33.550         93550   \n",
       "50443     880        20    4         1  1:34.374         94374   \n",
       "50444     880        20    5         1  1:34.496         94496   \n",
       "\n",
       "              full_name                   name  year  \n",
       "50440  Sebastian Vettel  Australian Grand Prix  2013  \n",
       "50441  Sebastian Vettel  Australian Grand Prix  2013  \n",
       "50442  Sebastian Vettel  Australian Grand Prix  2013  \n",
       "50443  Sebastian Vettel  Australian Grand Prix  2013  \n",
       "50444  Sebastian Vettel  Australian Grand Prix  2013  "
      ]
     },
     "execution_count": 20,
     "metadata": {},
     "output_type": "execute_result"
    }
   ],
   "source": [
    "df_seb_2013_au.head()"
   ]
  },
  {
   "cell_type": "code",
   "execution_count": 21,
   "id": "449de359",
   "metadata": {
    "extensions": {
     "jupyter_dashboards": {
      "version": 1,
      "views": {
       "default_view": {
        "col": 0,
        "height": 2,
        "row": 40,
        "width": 12
       }
      }
     }
    }
   },
   "outputs": [
    {
     "data": {
      "text/plain": [
       "[<matplotlib.lines.Line2D at 0x7f863f141070>]"
      ]
     },
     "execution_count": 21,
     "metadata": {},
     "output_type": "execute_result"
    },
    {
     "data": {
      "image/png": "[encoded data removed]",
      "text/plain": [
       "<Figure size 432x288 with 1 Axes>"
      ]
     },
     "metadata": {
      "needs_background": "light"
     },
     "output_type": "display_data"
    }
   ],
   "source": [
    "# visualizing lap times\n",
    "# x-axis: lap number\n",
    "# y-axis: lap times\n",
    "\n",
    "plt.plot(df_seb_2013_au[\"lap\"], df_seb_2013_au[\"time\"])"
   ]
  },
  {
   "cell_type": "code",
   "execution_count": 22,
   "id": "486593e2",
   "metadata": {
    "extensions": {
     "jupyter_dashboards": {
      "version": 1,
      "views": {
       "default_view": {
        "col": 0,
        "height": 2,
        "row": 42,
        "width": 12
       }
      }
     }
    }
   },
   "outputs": [
    {
     "data": {
      "text/html": [
       "<div>\n",
       "<style scoped>\n",
       "    .dataframe tbody tr th:only-of-type {\n",
       "        vertical-align: middle;\n",
       "    }\n",
       "\n",
       "    .dataframe tbody tr th {\n",
       "        vertical-align: top;\n",
       "    }\n",
       "\n",
       "    .dataframe thead th {\n",
       "        text-align: right;\n",
       "    }\n",
       "</style>\n",
       "<table border=\"1\" class=\"dataframe\">\n",
       "  <thead>\n",
       "    <tr style=\"text-align: right;\">\n",
       "      <th></th>\n",
       "      <th>raceId</th>\n",
       "      <th>driverId</th>\n",
       "      <th>lap</th>\n",
       "      <th>position</th>\n",
       "      <th>time</th>\n",
       "      <th>milliseconds</th>\n",
       "      <th>full_name</th>\n",
       "      <th>name</th>\n",
       "      <th>year</th>\n",
       "      <th>timestamp</th>\n",
       "    </tr>\n",
       "  </thead>\n",
       "  <tbody>\n",
       "    <tr>\n",
       "      <th>50440</th>\n",
       "      <td>880</td>\n",
       "      <td>20</td>\n",
       "      <td>1</td>\n",
       "      <td>1</td>\n",
       "      <td>1:39.646</td>\n",
       "      <td>99646</td>\n",
       "      <td>Sebastian Vettel</td>\n",
       "      <td>Australian Grand Prix</td>\n",
       "      <td>2013</td>\n",
       "      <td>01:39:38</td>\n",
       "    </tr>\n",
       "    <tr>\n",
       "      <th>50441</th>\n",
       "      <td>880</td>\n",
       "      <td>20</td>\n",
       "      <td>2</td>\n",
       "      <td>1</td>\n",
       "      <td>1:33.106</td>\n",
       "      <td>93106</td>\n",
       "      <td>Sebastian Vettel</td>\n",
       "      <td>Australian Grand Prix</td>\n",
       "      <td>2013</td>\n",
       "      <td>01:33:06</td>\n",
       "    </tr>\n",
       "    <tr>\n",
       "      <th>50442</th>\n",
       "      <td>880</td>\n",
       "      <td>20</td>\n",
       "      <td>3</td>\n",
       "      <td>1</td>\n",
       "      <td>1:33.550</td>\n",
       "      <td>93550</td>\n",
       "      <td>Sebastian Vettel</td>\n",
       "      <td>Australian Grand Prix</td>\n",
       "      <td>2013</td>\n",
       "      <td>01:33:33</td>\n",
       "    </tr>\n",
       "    <tr>\n",
       "      <th>50443</th>\n",
       "      <td>880</td>\n",
       "      <td>20</td>\n",
       "      <td>4</td>\n",
       "      <td>1</td>\n",
       "      <td>1:34.374</td>\n",
       "      <td>94374</td>\n",
       "      <td>Sebastian Vettel</td>\n",
       "      <td>Australian Grand Prix</td>\n",
       "      <td>2013</td>\n",
       "      <td>01:34:22</td>\n",
       "    </tr>\n",
       "    <tr>\n",
       "      <th>50444</th>\n",
       "      <td>880</td>\n",
       "      <td>20</td>\n",
       "      <td>5</td>\n",
       "      <td>1</td>\n",
       "      <td>1:34.496</td>\n",
       "      <td>94496</td>\n",
       "      <td>Sebastian Vettel</td>\n",
       "      <td>Australian Grand Prix</td>\n",
       "      <td>2013</td>\n",
       "      <td>01:34:29</td>\n",
       "    </tr>\n",
       "  </tbody>\n",
       "</table>\n",
       "</div>"
      ],
      "text/plain": [
       "       raceId  driverId  lap  position      time  milliseconds  \\\n",
       "50440     880        20    1         1  1:39.646         99646   \n",
       "50441     880        20    2         1  1:33.106         93106   \n",
       "50442     880        20    3         1  1:33.550         93550   \n",
       "50443     880        20    4         1  1:34.374         94374   \n",
       "50444     880        20    5         1  1:34.496         94496   \n",
       "\n",
       "              full_name                   name  year timestamp  \n",
       "50440  Sebastian Vettel  Australian Grand Prix  2013  01:39:38  \n",
       "50441  Sebastian Vettel  Australian Grand Prix  2013  01:33:06  \n",
       "50442  Sebastian Vettel  Australian Grand Prix  2013  01:33:33  \n",
       "50443  Sebastian Vettel  Australian Grand Prix  2013  01:34:22  \n",
       "50444  Sebastian Vettel  Australian Grand Prix  2013  01:34:29  "
      ]
     },
     "execution_count": 22,
     "metadata": {},
     "output_type": "execute_result"
    }
   ],
   "source": [
    "# change time to timestamp\n",
    "df_seb_2013_au['timestamp'] = df_seb_2013_au[\"time\"].apply(lambda x: pd.Timestamp(x).time())\n",
    "df_seb_2013_au.head()"
   ]
  },
  {
   "cell_type": "code",
   "execution_count": 23,
   "id": "c290d678",
   "metadata": {
    "extensions": {
     "jupyter_dashboards": {
      "version": 1,
      "views": {
       "default_view": {
        "col": 0,
        "height": 2,
        "row": 44,
        "width": 12
       }
      }
     }
    }
   },
   "outputs": [
    {
     "ename": "AttributeError",
     "evalue": "module 'matplotlib.pyplot' has no attribute 'plot_time'",
     "output_type": "error",
     "traceback": [
      "\u001b[0;31m---------------------------------------------------------------------------\u001b[0m",
      "\u001b[0;31mAttributeError\u001b[0m                            Traceback (most recent call last)",
      "\u001b[0;32m/var/folders/zm/vm_95yhn3gv76x8lddzxy74h0000gn/T/ipykernel_98291/1564759016.py\u001b[0m in \u001b[0;36m<module>\u001b[0;34m\u001b[0m\n\u001b[0;32m----> 1\u001b[0;31m \u001b[0mplt\u001b[0m\u001b[0;34m.\u001b[0m\u001b[0mplot_time\u001b[0m\u001b[0;34m(\u001b[0m\u001b[0mdf_seb_2013_au\u001b[0m\u001b[0;34m[\u001b[0m\u001b[0;34m\"lap\"\u001b[0m\u001b[0;34m]\u001b[0m\u001b[0;34m,\u001b[0m \u001b[0mdf_seb_2013_au\u001b[0m\u001b[0;34m[\u001b[0m\u001b[0;34m\"timestamp\"\u001b[0m\u001b[0;34m]\u001b[0m\u001b[0;34m)\u001b[0m\u001b[0;34m\u001b[0m\u001b[0;34m\u001b[0m\u001b[0m\n\u001b[0m",
      "\u001b[0;31mAttributeError\u001b[0m: module 'matplotlib.pyplot' has no attribute 'plot_time'"
     ]
    }
   ],
   "source": [
    "plt.plot_time(df_seb_2013_au[\"lap\"], df_seb_2013_au[\"timestamp\"])"
   ]
  },
  {
   "cell_type": "code",
   "execution_count": null,
   "id": "81fa3d24",
   "metadata": {
    "extensions": {
     "jupyter_dashboards": {
      "version": 1,
      "views": {
       "default_view": {
        "col": 0,
        "height": 2,
        "row": 46,
        "width": 12
       }
      }
     }
    }
   },
   "outputs": [],
   "source": [
    "datetime.strptime('1:39.646', '%M:%S.%f').time()"
   ]
  },
  {
   "cell_type": "code",
   "execution_count": null,
   "id": "5279ee3e",
   "metadata": {
    "extensions": {
     "jupyter_dashboards": {
      "version": 1,
      "views": {
       "default_view": {
        "col": 0,
        "height": 2,
        "row": 48,
        "width": 12
       }
      }
     }
    }
   },
   "outputs": [],
   "source": [
    "df_seb_2013_au['timestamp'] = df_seb_2013_au[\"time\"].apply(lambda x: datetime.strptime(x, '%M:%S.%f'))\n",
    "df_seb_2013_au.head()"
   ]
  },
  {
   "cell_type": "code",
   "execution_count": null,
   "id": "40102865",
   "metadata": {
    "extensions": {
     "jupyter_dashboards": {
      "version": 1,
      "views": {
       "default_view": {
        "col": 0,
        "height": 2,
        "row": 50,
        "width": 12
       }
      }
     }
    }
   },
   "outputs": [],
   "source": [
    "plt.plot(df_seb_2013_au[\"lap\"], df_seb_2013_au[\"timestamp\"])"
   ]
  },
  {
   "cell_type": "code",
   "execution_count": null,
   "id": "7ccbf4a3",
   "metadata": {
    "extensions": {
     "jupyter_dashboards": {
      "version": 1,
      "views": {
       "default_view": {
        "col": 0,
        "height": 2,
        "row": 52,
        "width": 12
       }
      }
     }
    }
   },
   "outputs": [],
   "source": [
    "plt.plot(df_seb_2013_au[\"lap\"], df_seb_2013_au[\"position\"])"
   ]
  },
  {
   "cell_type": "code",
   "execution_count": null,
   "id": "a8531941",
   "metadata": {
    "extensions": {
     "jupyter_dashboards": {
      "version": 1,
      "views": {
       "default_view": {
        "col": 0,
        "height": 2,
        "row": 54,
        "width": 12
       }
      }
     }
    }
   },
   "outputs": [],
   "source": [
    "# make ipywidgets - select year, race and driver\n",
    "#using ipywidgets\n",
    "import ipywidgets as widgets\n",
    "from ipywidgets import interact, interactive, fixed, interact_manual"
   ]
  },
  {
   "cell_type": "code",
   "execution_count": null,
   "id": "3cd9738d",
   "metadata": {
    "extensions": {
     "jupyter_dashboards": {
      "version": 1,
      "views": {
       "default_view": {
        "col": 0,
        "height": 2,
        "row": 56,
        "width": 12
       }
      }
     }
    }
   },
   "outputs": [],
   "source": [
    "df_laptimes.head()"
   ]
  },
  {
   "cell_type": "code",
   "execution_count": null,
   "id": "a705b527",
   "metadata": {
    "extensions": {
     "jupyter_dashboards": {
      "version": 1,
      "views": {
       "default_view": {
        "col": 0,
        "height": 2,
        "row": 58,
        "width": 12
       }
      }
     }
    }
   },
   "outputs": [],
   "source": [
    "# select race\n",
    "def select_race(df_year, race, driver):\n",
    "    df_race_year = df_year[df_year['name'] == race]\n",
    "    df_race_year_driver = df_race_year[df_race_year['full_name'] == driver]\n",
    "    \n",
    "    df_race_year_driver[\"timestamp\"] = df_race_year_driver[\"time\"].apply(lambda x: datetime.strptime(x, '%M:%S.%f'))\n",
    "    fig, axs = plt.subplots(2,1)\n",
    "    axs[0].plot(df_race_year_driver[\"lap\"], df_race_year_driver[\"timestamp\"])\n",
    "    axs[0].set_xlabel(\"LAP NUMBER\")\n",
    "    axs[0].set_ylabel(\"LAP TIME\")\n",
    "    axs[1].plot(df_race_year_driver[\"lap\"], df_race_year_driver[\"position\"])\n",
    "    axs[1].set_xlabel(\"LAP NUMBER\")\n",
    "    axs[1].set_ylabel(\"POSITION\")"
   ]
  },
  {
   "cell_type": "code",
   "execution_count": null,
   "id": "84aca298",
   "metadata": {
    "extensions": {
     "jupyter_dashboards": {
      "version": 1,
      "views": {
       "default_view": {
        "col": 0,
        "height": 2,
        "row": 60,
        "width": 12
       }
      }
     }
    }
   },
   "outputs": [],
   "source": [
    "@widgets.interact(Year = df_laptimes['year'].sort_values().unique())\n",
    "def choose_year(Year):\n",
    "    df_laptimes_year = df_laptimes[df_laptimes['year'] == Year]\n",
    "    \n",
    "    # select race\n",
    "    df_race_year = interactive(select_race, df_year = fixed(df_laptimes_year), race=df_laptimes_year['name'].unique(),\n",
    "                              driver=df_laptimes_year['full_name'].unique())\n",
    "    display(df_race_year)"
   ]
  },
  {
   "cell_type": "code",
   "execution_count": null,
   "id": "6bc52fdb",
   "metadata": {
    "extensions": {
     "jupyter_dashboards": {
      "version": 1,
      "views": {
       "default_view": {
        "col": 0,
        "height": 2,
        "row": 62,
        "width": 12
       }
      }
     }
    }
   },
   "outputs": [],
   "source": [
    "# comparing driver performance - for championship\n",
    "# by year and total points scored\n",
    "\n",
    "df_standings = pd.read_csv(os.path.join(data_path, \"driver_standings.csv\"))\n",
    "df_standings.head()"
   ]
  },
  {
   "cell_type": "code",
   "execution_count": null,
   "id": "7e4d6bbb",
   "metadata": {
    "extensions": {
     "jupyter_dashboards": {
      "version": 1,
      "views": {
       "default_view": {
        "col": 0,
        "height": 2,
        "row": 64,
        "width": 12
       }
      }
     }
    }
   },
   "outputs": [],
   "source": [
    "# merging race name and driver full name\n",
    "df_standings = df_standings.merge(df_drivernames, on=\"driverId\")"
   ]
  },
  {
   "cell_type": "code",
   "execution_count": null,
   "id": "18202800",
   "metadata": {
    "extensions": {
     "jupyter_dashboards": {
      "version": 1,
      "views": {
       "default_view": {
        "col": 0,
        "height": 2,
        "row": 66,
        "width": 12
       }
      }
     }
    }
   },
   "outputs": [],
   "source": [
    "df_standings.head()"
   ]
  },
  {
   "cell_type": "code",
   "execution_count": null,
   "id": "5b625a1b",
   "metadata": {
    "extensions": {
     "jupyter_dashboards": {
      "version": 1,
      "views": {
       "default_view": {
        "col": 0,
        "height": 2,
        "row": 68,
        "width": 12
       }
      }
     }
    }
   },
   "outputs": [],
   "source": [
    "df_standings = df_standings.merge(df_races[[\"raceId\", \"name\", \"year\"]], on=\"raceId\")"
   ]
  },
  {
   "cell_type": "code",
   "execution_count": null,
   "id": "8b558a6e",
   "metadata": {
    "extensions": {
     "jupyter_dashboards": {
      "version": 1,
      "views": {
       "default_view": {
        "col": 0,
        "height": 2,
        "row": 70,
        "width": 12
       }
      }
     }
    }
   },
   "outputs": [],
   "source": [
    "df_standings.head()"
   ]
  },
  {
   "cell_type": "code",
   "execution_count": null,
   "id": "71852a63",
   "metadata": {
    "extensions": {
     "jupyter_dashboards": {
      "version": 1,
      "views": {
       "default_view": {
        "col": 0,
        "height": 2,
        "row": 72,
        "width": 12
       }
      }
     }
    }
   },
   "outputs": [],
   "source": [
    "# visualize overall points for Max Verstappen for the year 2020\n",
    "\n",
    "df_max_2020 = df_standings[df_standings['full_name'] == \"Max Verstappen\"]\n",
    "df_max_2020 = df_max_2020[df_max_2020['year'] == 2020]"
   ]
  },
  {
   "cell_type": "code",
   "execution_count": null,
   "id": "17b7c2a2",
   "metadata": {
    "extensions": {
     "jupyter_dashboards": {
      "version": 1,
      "views": {
       "default_view": {
        "col": 0,
        "height": 2,
        "row": 74,
        "width": 12
       }
      }
     }
    }
   },
   "outputs": [],
   "source": [
    "df_max_2020.head()"
   ]
  },
  {
   "cell_type": "code",
   "execution_count": null,
   "id": "0e9d3911",
   "metadata": {
    "extensions": {
     "jupyter_dashboards": {
      "version": 1,
      "views": {
       "default_view": {
        "col": 0,
        "height": 2,
        "row": 76,
        "width": 12
       }
      }
     }
    }
   },
   "outputs": [],
   "source": [
    "# sort by raceID\n",
    "df_max_2020.sort_values(by=\"raceId\", inplace=True)"
   ]
  },
  {
   "cell_type": "code",
   "execution_count": null,
   "id": "68a63775",
   "metadata": {
    "extensions": {
     "jupyter_dashboards": {
      "version": 1,
      "views": {
       "default_view": {
        "col": 0,
        "height": 2,
        "row": 78,
        "width": 12
       }
      }
     }
    }
   },
   "outputs": [],
   "source": [
    "df_max_2020.head()"
   ]
  },
  {
   "cell_type": "code",
   "execution_count": null,
   "id": "433bed87",
   "metadata": {
    "extensions": {
     "jupyter_dashboards": {
      "version": 1,
      "views": {
       "default_view": {
        "col": 0,
        "height": 2,
        "row": 80,
        "width": 12
       }
      }
     }
    }
   },
   "outputs": [],
   "source": [
    "# visualizing\n",
    "fig, ax = plt.subplots(dpi=100)\n",
    "ax.plot(df_max_2020['raceId'], df_max_2020['points'])\n",
    "ax.set_xticks(df_max_2020['raceId'])\n",
    "ax.set_xticklabels(df_max_2020['name'], rotation=90);\n",
    "ax.set_xlabel(\"Race Name\")\n",
    "ax.set_ylabel(\"Season Points\");\n",
    "ax.set_title(\"2020 Season Progress- Max Verstappen\");"
   ]
  },
  {
   "cell_type": "code",
   "execution_count": null,
   "id": "6f388ed2",
   "metadata": {
    "extensions": {
     "jupyter_dashboards": {
      "version": 1,
      "views": {
       "default_view": {
        "col": 0,
        "height": 2,
        "row": 82,
        "width": 12
       }
      }
     }
    }
   },
   "outputs": [],
   "source": [
    "global year\n",
    "def select_racer(df_standings_year, racer):\n",
    "    df_racer_year = df_standings_year[df_standings_year['full_name']==racer]\n",
    "    \n",
    "    df_racer_year.sort_values(by=\"raceId\", inplace=True)\n",
    "    \n",
    "    global year \n",
    "    \n",
    "    fig, ax = plt.subplots(dpi=100)\n",
    "    ax.plot(df_racer_year['raceId'], df_racer_year['points'])\n",
    "    ax.set_xticks(df_racer_year['raceId'])\n",
    "    ax.set_xticklabels(df_racer_year['name'], rotation=90);\n",
    "    ax.set_xlabel(\"Race Name\")\n",
    "    ax.set_ylabel(\"Season Points\");\n",
    "    ax.set_title(\"{} Season Progress- {}\".format(str(year), racer));"
   ]
  },
  {
   "cell_type": "code",
   "execution_count": null,
   "id": "2f6905bb",
   "metadata": {
    "extensions": {
     "jupyter_dashboards": {
      "version": 1,
      "views": {
       "default_view": {
        "col": 0,
        "height": 2,
        "row": 84,
        "width": 12
       }
      }
     }
    }
   },
   "outputs": [],
   "source": [
    "# making ipywidgets\n",
    "@widgets.interact(Year = df_standings['year'].sort_values().unique())\n",
    "def choose_year(Year):\n",
    "    df_standings_year = df_standings[df_standings['year'] == Year]\n",
    "    \n",
    "    global year\n",
    "    year = Year\n",
    "    # select racer\n",
    "    df_racer_year = interactive(select_racer, df_standings_year = fixed(df_standings_year), racer=df_standings_year['full_name'].unique())\n",
    "    display(df_racer_year)"
   ]
  },
  {
   "cell_type": "code",
   "execution_count": null,
   "id": "37d219e9",
   "metadata": {
    "extensions": {
     "jupyter_dashboards": {
      "version": 1,
      "views": {
       "default_view": {
        "col": 0,
        "height": 2,
        "row": 86,
        "width": 12
       }
      }
     }
    }
   },
   "outputs": [],
   "source": [
    "# comparing two drivers performance by driver name\n",
    "# for the year 2021- compare Lando Norris and Charles LeClerc\n",
    "df_standings.head()"
   ]
  },
  {
   "cell_type": "code",
   "execution_count": null,
   "id": "e860e8a9",
   "metadata": {
    "extensions": {
     "jupyter_dashboards": {
      "version": 1,
      "views": {
       "default_view": {
        "col": 0,
        "height": 2,
        "row": 88,
        "width": 12
       }
      }
     }
    }
   },
   "outputs": [],
   "source": [
    "df_standings_2021 = df_standings[df_standings['year'] == 2021]\n",
    "df_standings_2021.head()"
   ]
  },
  {
   "cell_type": "code",
   "execution_count": null,
   "id": "76a2c355",
   "metadata": {
    "extensions": {
     "jupyter_dashboards": {
      "version": 1,
      "views": {
       "default_view": {
        "col": 0,
        "height": 2,
        "row": 90,
        "width": 12
       }
      }
     }
    }
   },
   "outputs": [],
   "source": [
    "df_standings_2021_norris = df_standings_2021[df_standings_2021['full_name'] == \"Lando Norris\"]\n",
    "df_standings_2021_leclerc = df_standings_2021[df_standings_2021['full_name'] == \"Charles Leclerc\"]"
   ]
  },
  {
   "cell_type": "code",
   "execution_count": null,
   "id": "cfc70223",
   "metadata": {
    "extensions": {
     "jupyter_dashboards": {
      "version": 1,
      "views": {
       "default_view": {
        "col": 0,
        "height": 2,
        "row": 92,
        "width": 12
       }
      }
     }
    }
   },
   "outputs": [],
   "source": [
    "df_standings_2021_norris.sort_values(by=\"raceId\", inplace=True)\n",
    "df_standings_2021_leclerc.sort_values(by=\"raceId\", inplace=True)"
   ]
  },
  {
   "cell_type": "code",
   "execution_count": null,
   "id": "382cab85",
   "metadata": {
    "extensions": {
     "jupyter_dashboards": {
      "version": 1,
      "views": {
       "default_view": {
        "col": 0,
        "height": 2,
        "row": 94,
        "width": 12
       }
      }
     }
    }
   },
   "outputs": [],
   "source": [
    "# visualizing\n",
    "fig, ax = plt.subplots(dpi=100)\n",
    "ax.plot(df_standings_2021_norris['raceId'], df_standings_2021_norris['points'])\n",
    "ax.plot(df_standings_2021_leclerc['raceId'], df_standings_2021_leclerc['points'])"
   ]
  },
  {
   "cell_type": "code",
   "execution_count": null,
   "id": "929b33d3",
   "metadata": {
    "extensions": {
     "jupyter_dashboards": {
      "version": 1,
      "views": {
       "default_view": {
        "col": 0,
        "height": 2,
        "row": 96,
        "width": 12
       }
      }
     }
    }
   },
   "outputs": [],
   "source": [
    "# there's something wrong with the dataset - the race ID for the latest race is set wrong\n",
    "# hence we will sort by points\n",
    "df_standings_2021_norris.sort_values(by=\"points\", inplace=True)\n",
    "df_standings_2021_leclerc.sort_values(by=\"points\", inplace=True)"
   ]
  },
  {
   "cell_type": "code",
   "execution_count": null,
   "id": "dfe2f4f9",
   "metadata": {
    "extensions": {
     "jupyter_dashboards": {
      "version": 1,
      "views": {
       "default_view": {
        "col": 0,
        "height": 2,
        "row": 98,
        "width": 12
       }
      }
     }
    }
   },
   "outputs": [],
   "source": [
    "# change the dataset\n",
    "for i in df_standings.index:\n",
    "    if df_standings.loc[i][\"name\"] == \"Qatar Grand Prix\" and df_standings.loc[i][\"year\"] == 2021:\n",
    "        df_standings.loc[i, \"raceId\"] = 1072"
   ]
  },
  {
   "cell_type": "code",
   "execution_count": null,
   "id": "23d040ae",
   "metadata": {
    "extensions": {
     "jupyter_dashboards": {
      "version": 1,
      "views": {
       "default_view": {
        "col": 0,
        "height": 2,
        "row": 100,
        "width": 12
       }
      }
     }
    }
   },
   "outputs": [],
   "source": [
    "df_standings_2021 = df_standings[df_standings['year'] == 2021]\n",
    "df_standings_2021.head()"
   ]
  },
  {
   "cell_type": "code",
   "execution_count": null,
   "id": "38223d92",
   "metadata": {
    "extensions": {
     "jupyter_dashboards": {
      "version": 1,
      "views": {
       "default_view": {
        "col": 0,
        "height": 2,
        "row": 102,
        "width": 12
       }
      }
     }
    }
   },
   "outputs": [],
   "source": [
    "df_standings_2021_norris = df_standings_2021[df_standings_2021['full_name'] == \"Lando Norris\"]\n",
    "df_standings_2021_leclerc = df_standings_2021[df_standings_2021['full_name'] == \"Charles Leclerc\"]"
   ]
  },
  {
   "cell_type": "code",
   "execution_count": null,
   "id": "0504b448",
   "metadata": {
    "extensions": {
     "jupyter_dashboards": {
      "version": 1,
      "views": {
       "default_view": {
        "col": 0,
        "height": 2,
        "row": 104,
        "width": 12
       }
      }
     }
    }
   },
   "outputs": [],
   "source": [
    "df_standings_2021_norris.sort_values(by=\"raceId\", inplace=True)\n",
    "df_standings_2021_leclerc.sort_values(by=\"raceId\", inplace=True)"
   ]
  },
  {
   "cell_type": "code",
   "execution_count": null,
   "id": "02ff536e",
   "metadata": {
    "extensions": {
     "jupyter_dashboards": {
      "version": 1,
      "views": {
       "default_view": {
        "col": 0,
        "height": 2,
        "row": 106,
        "width": 12
       }
      }
     }
    }
   },
   "outputs": [],
   "source": [
    "df_standings_2021_norris"
   ]
  },
  {
   "cell_type": "code",
   "execution_count": null,
   "id": "1db8e715",
   "metadata": {
    "extensions": {
     "jupyter_dashboards": {
      "version": 1,
      "views": {
       "default_view": {
        "col": 0,
        "height": 2,
        "row": 108,
        "width": 12
       }
      }
     }
    }
   },
   "outputs": [],
   "source": [
    "# visualizing\n",
    "fig, ax = plt.subplots(dpi=100)\n",
    "ax.plot(df_standings_2021_norris['raceId'], df_standings_2021_norris['points'], label=\"Norris\")\n",
    "ax.plot(df_standings_2021_leclerc['raceId'], df_standings_2021_leclerc['points'],label=\"LeClerc\")\n",
    "ax.set_xticks(df_standings_2021_leclerc['raceId'])\n",
    "ax.set_xticklabels(df_standings_2021_leclerc['name'], rotation=90);\n",
    "ax.set_xlabel(\"Race Name\")\n",
    "ax.set_ylabel(\"Season Points\")\n",
    "ax.legend()\n",
    "ax.set_title(\"2020 Season Progress- Norris vs LeClerc\");"
   ]
  },
  {
   "cell_type": "code",
   "execution_count": null,
   "id": "8fe16682",
   "metadata": {
    "extensions": {
     "jupyter_dashboards": {
      "version": 1,
      "views": {
       "default_view": {
        "col": 0,
        "height": 2,
        "row": 110,
        "width": 12
       }
      }
     }
    }
   },
   "outputs": [],
   "source": [
    "# comparing driver performance of drivers in the same team\n",
    "# compare driver performance for McLaren drivers\n",
    "df_drivers.head()"
   ]
  },
  {
   "cell_type": "code",
   "execution_count": null,
   "id": "818d6fc5",
   "metadata": {
    "extensions": {
     "jupyter_dashboards": {
      "version": 1,
      "views": {
       "default_view": {
        "col": 0,
        "height": 2,
        "row": 112,
        "width": 12
       }
      }
     }
    }
   },
   "outputs": [],
   "source": [
    "df_results = pd.read_csv(os.path.join(data_path, \"results.csv\"))"
   ]
  },
  {
   "cell_type": "code",
   "execution_count": null,
   "id": "f01d8b2f",
   "metadata": {
    "extensions": {
     "jupyter_dashboards": {
      "version": 1,
      "views": {
       "default_view": {
        "col": 0,
        "height": 2,
        "row": 114,
        "width": 12
       }
      }
     }
    }
   },
   "outputs": [],
   "source": [
    "df_results.head()"
   ]
  },
  {
   "cell_type": "code",
   "execution_count": null,
   "id": "46568cbc",
   "metadata": {
    "extensions": {
     "jupyter_dashboards": {
      "version": 1,
      "views": {
       "default_view": {
        "col": 0,
        "height": 2,
        "row": 116,
        "width": 12
       }
      }
     }
    }
   },
   "outputs": [],
   "source": [
    "# merge constructor name, driver name, race name\n",
    "df_constructors = pd.read_csv(os.path.join(data_path, \"constructors.csv\"))"
   ]
  },
  {
   "cell_type": "code",
   "execution_count": null,
   "id": "9f2a774a",
   "metadata": {
    "extensions": {
     "jupyter_dashboards": {
      "version": 1,
      "views": {
       "default_view": {
        "col": 0,
        "height": 2,
        "row": 118,
        "width": 12
       }
      }
     }
    }
   },
   "outputs": [],
   "source": [
    "df_results = df_results.merge(df_constructors[['constructorId', 'name']], on='constructorId')\n",
    "df_results.head()"
   ]
  },
  {
   "cell_type": "code",
   "execution_count": null,
   "id": "c78f1563",
   "metadata": {
    "extensions": {
     "jupyter_dashboards": {
      "version": 1,
      "views": {
       "default_view": {
        "col": 0,
        "height": 2,
        "row": 120,
        "width": 12
       }
      }
     }
    }
   },
   "outputs": [],
   "source": [
    "df_results = df_results.merge(df_drivers[[\"driverId\", \"full_name\"]], on=\"driverId\")\n",
    "df_results.head()"
   ]
  },
  {
   "cell_type": "code",
   "execution_count": null,
   "id": "5a9fa270",
   "metadata": {
    "extensions": {
     "jupyter_dashboards": {
      "version": 1,
      "views": {
       "default_view": {
        "col": 0,
        "height": 2,
        "row": 122,
        "width": 12
       }
      }
     }
    }
   },
   "outputs": [],
   "source": [
    "df_results = df_results.merge(df_races[[\"raceId\", \"name\", \"year\"]], on=\"raceId\")\n",
    "df_results.head()"
   ]
  },
  {
   "cell_type": "code",
   "execution_count": null,
   "id": "a6c18689",
   "metadata": {
    "extensions": {
     "jupyter_dashboards": {
      "version": 1,
      "views": {
       "default_view": {
        "col": 0,
        "height": 2,
        "row": 124,
        "width": 12
       }
      }
     }
    },
    "scrolled": true
   },
   "outputs": [],
   "source": [
    "df_results.rename(columns={\"name_x\": \"constructor_name\", \"name_y\": \"race_name\"}, inplace=True)"
   ]
  },
  {
   "cell_type": "code",
   "execution_count": null,
   "id": "e2d39951",
   "metadata": {
    "extensions": {
     "jupyter_dashboards": {
      "version": 1,
      "views": {
       "default_view": {
        "col": 0,
        "height": 2,
        "row": 126,
        "width": 12
       }
      }
     }
    }
   },
   "outputs": [],
   "source": [
    "df_results.head()"
   ]
  },
  {
   "cell_type": "code",
   "execution_count": null,
   "id": "3b554f9d",
   "metadata": {
    "extensions": {
     "jupyter_dashboards": {
      "version": 1,
      "views": {
       "default_view": {
        "col": 0,
        "height": 2,
        "row": 128,
        "width": 12
       }
      }
     }
    }
   },
   "outputs": [],
   "source": [
    "# comparing driver performance of drivers in the same team\n",
    "# compare driver performance for McLaren drivers in the year 2020\n",
    "df_results_2020 = df_results[df_results['year'] == 2020]\n",
    "df_results_2020_mclaren = df_results_2020[df_results_2020['constructor_name'] == \"McLaren\"]"
   ]
  },
  {
   "cell_type": "code",
   "execution_count": null,
   "id": "2d76fd21",
   "metadata": {
    "extensions": {
     "jupyter_dashboards": {
      "version": 1,
      "views": {
       "default_view": {
        "col": 0,
        "height": 2,
        "row": 130,
        "width": 12
       }
      }
     }
    }
   },
   "outputs": [],
   "source": [
    "df_results_2020_mclaren['full_name'].unique()"
   ]
  },
  {
   "cell_type": "code",
   "execution_count": null,
   "id": "3cd08ab9",
   "metadata": {
    "extensions": {
     "jupyter_dashboards": {
      "version": 1,
      "views": {
       "default_view": {
        "col": 0,
        "height": 2,
        "row": 132,
        "width": 12
       }
      }
     }
    }
   },
   "outputs": [],
   "source": [
    "df_standings"
   ]
  },
  {
   "cell_type": "code",
   "execution_count": null,
   "id": "dddf7151",
   "metadata": {
    "extensions": {
     "jupyter_dashboards": {
      "version": 1,
      "views": {
       "default_view": {
        "col": 0,
        "height": 2,
        "row": 134,
        "width": 12
       }
      }
     }
    }
   },
   "outputs": [],
   "source": [
    "# merging total points\n",
    "df_results_2020_mclaren = df_results_2020_mclaren.merge(df_standings[['raceId', 'driverId', 'points', 'year']], on=['raceId', 'driverId', 'year'])"
   ]
  },
  {
   "cell_type": "code",
   "execution_count": null,
   "id": "d42878a5",
   "metadata": {
    "extensions": {
     "jupyter_dashboards": {
      "version": 1,
      "views": {
       "default_view": {
        "col": 0,
        "height": 2,
        "row": 136,
        "width": 12
       }
      }
     }
    }
   },
   "outputs": [],
   "source": [
    "df_results_2020_mclaren.rename(columns={'points_x': 'race_points', 'points_y': 'total_points'}, inplace=True)"
   ]
  },
  {
   "cell_type": "code",
   "execution_count": null,
   "id": "db80e59f",
   "metadata": {
    "extensions": {
     "jupyter_dashboards": {
      "version": 1,
      "views": {
       "default_view": {
        "col": 0,
        "height": 2,
        "row": 138,
        "width": 12
       }
      }
     }
    }
   },
   "outputs": [],
   "source": [
    "df_results_2020_mclaren.sort_values(by='raceId')"
   ]
  },
  {
   "cell_type": "code",
   "execution_count": null,
   "id": "64439a00",
   "metadata": {
    "extensions": {
     "jupyter_dashboards": {
      "version": 1,
      "views": {
       "default_view": {
        "col": 0,
        "height": 2,
        "row": 140,
        "width": 12
       }
      }
     }
    }
   },
   "outputs": [],
   "source": [
    "fig, ax = plt.subplots(dpi=100)\n",
    "for driver in df_results_2020_mclaren['full_name'].unique():\n",
    "    df_driver_team = df_results_2020_mclaren[df_results_2020_mclaren['full_name'] == driver]\n",
    "    df_driver_team.sort_values(by=\"raceId\")\n",
    "    \n",
    "    ax.plot(df_driver_team['raceId'], df_driver_team['total_points'], label=driver)\n",
    "\n",
    "ax.set_xticks(df_driver_team['raceId'])\n",
    "ax.set_xticklabels(df_driver_team['race_name'], rotation=90);\n",
    "ax.set_xlabel(\"Race Name\")\n",
    "ax.set_ylabel(\"Season Points\")\n",
    "ax.legend()\n",
    "ax.set_title(\"2020 Season Progress- McLaren Drivers\");"
   ]
  },
  {
   "cell_type": "code",
   "execution_count": null,
   "id": "95197b50",
   "metadata": {
    "extensions": {
     "jupyter_dashboards": {
      "version": 1,
      "views": {
       "default_view": {
        "col": 0,
        "height": 2,
        "row": 142,
        "width": 12
       }
      }
     }
    }
   },
   "outputs": [],
   "source": [
    "# analyzing the constructors results\n",
    "df_constructors_result = pd.read_csv(os.path.join(data_path, \"constructor_results.csv\"))\n",
    "df_constructors_standing = pd.read_csv(os.path.join(data_path, \"constructor_standings.csv\"))"
   ]
  },
  {
   "cell_type": "code",
   "execution_count": null,
   "id": "2a35a2bd",
   "metadata": {
    "extensions": {
     "jupyter_dashboards": {
      "version": 1,
      "views": {
       "default_view": {
        "col": 0,
        "height": 2,
        "row": 144,
        "width": 12
       }
      }
     }
    }
   },
   "outputs": [],
   "source": [
    "df_constructors_result.head()"
   ]
  },
  {
   "cell_type": "code",
   "execution_count": null,
   "id": "4c2f2144",
   "metadata": {
    "extensions": {
     "jupyter_dashboards": {
      "version": 1,
      "views": {
       "default_view": {
        "col": 0,
        "height": 2,
        "row": 146,
        "width": 12
       }
      }
     }
    }
   },
   "outputs": [],
   "source": [
    "df_constructors_standing.head()"
   ]
  },
  {
   "cell_type": "code",
   "execution_count": null,
   "id": "f7fa0a74",
   "metadata": {
    "extensions": {
     "jupyter_dashboards": {
      "version": 1,
      "views": {
       "default_view": {
        "col": 0,
        "height": 2,
        "row": 148,
        "width": 12
       }
      }
     }
    }
   },
   "outputs": [],
   "source": [
    "# use constructor standing\n",
    "# merge race name, constructor(team) name\n",
    "df_constructors_standing = df_constructors_standing.merge(df_constructors[['constructorId', 'name']], on='constructorId')\n",
    "df_constructors_standing = df_constructors_standing.merge(df_races[[\"raceId\", \"name\", \"year\"]], on=\"raceId\")"
   ]
  },
  {
   "cell_type": "code",
   "execution_count": null,
   "id": "ea6c7298",
   "metadata": {
    "extensions": {
     "jupyter_dashboards": {
      "version": 1,
      "views": {
       "default_view": {
        "col": 0,
        "height": 2,
        "row": 150,
        "width": 12
       }
      }
     }
    }
   },
   "outputs": [],
   "source": [
    "df_constructors_standing.head()"
   ]
  },
  {
   "cell_type": "code",
   "execution_count": null,
   "id": "7220b2b7",
   "metadata": {
    "extensions": {
     "jupyter_dashboards": {
      "version": 1,
      "views": {
       "default_view": {
        "col": 0,
        "height": 2,
        "row": 152,
        "width": 12
       }
      }
     }
    }
   },
   "outputs": [],
   "source": [
    "df_constructors_standing.rename(columns={\"name_x\": \"constructor_name\", \"name_y\": \"race_name\"}, inplace=True)"
   ]
  },
  {
   "cell_type": "code",
   "execution_count": null,
   "id": "65300cad",
   "metadata": {
    "extensions": {
     "jupyter_dashboards": {
      "version": 1,
      "views": {
       "default_view": {
        "col": 0,
        "height": 2,
        "row": 154,
        "width": 12
       }
      }
     }
    }
   },
   "outputs": [],
   "source": [
    "# get performance for Ferrari from 2016-2021 (last 5 years)\n",
    "df_ferrari = df_constructors_standing[df_constructors_standing['constructor_name'] == 'Ferrari']"
   ]
  },
  {
   "cell_type": "code",
   "execution_count": null,
   "id": "5dde711e",
   "metadata": {
    "extensions": {
     "jupyter_dashboards": {
      "version": 1,
      "views": {
       "default_view": {
        "col": 0,
        "height": 2,
        "row": 156,
        "width": 12
       }
      }
     }
    }
   },
   "outputs": [],
   "source": [
    "df_ferrari_5years = df_ferrari[df_ferrari['year'].isin(list(range(2016, 2022)))]"
   ]
  },
  {
   "cell_type": "code",
   "execution_count": null,
   "id": "91e442e9",
   "metadata": {
    "extensions": {
     "jupyter_dashboards": {
      "version": 1,
      "views": {
       "default_view": {
        "col": 0,
        "height": 2,
        "row": 158,
        "width": 12
       }
      }
     }
    }
   },
   "outputs": [],
   "source": [
    "df_ferrari_5years[df_ferrari_5years['year']==2016]"
   ]
  },
  {
   "cell_type": "code",
   "execution_count": null,
   "id": "0fbdef31",
   "metadata": {
    "extensions": {
     "jupyter_dashboards": {
      "version": 1,
      "views": {
       "default_view": {
        "col": 0,
        "height": 2,
        "row": 160,
        "width": 12
       }
      }
     }
    }
   },
   "outputs": [],
   "source": [
    "df_constructors_result = df_constructors_result.merge(df_constructors[['constructorId', 'name']], on='constructorId')\n",
    "df_constructors_result = df_constructors_result.merge(df_races[[\"raceId\", \"name\", \"year\"]], on=\"raceId\")"
   ]
  },
  {
   "cell_type": "code",
   "execution_count": null,
   "id": "2437f58d",
   "metadata": {
    "extensions": {
     "jupyter_dashboards": {
      "version": 1,
      "views": {
       "default_view": {
        "col": 0,
        "height": 2,
        "row": 162,
        "width": 12
       }
      }
     }
    }
   },
   "outputs": [],
   "source": [
    "df_constructors_result.head()"
   ]
  },
  {
   "cell_type": "code",
   "execution_count": null,
   "id": "9192e0b7",
   "metadata": {
    "extensions": {
     "jupyter_dashboards": {
      "version": 1,
      "views": {
       "default_view": {
        "col": 0,
        "height": 2,
        "row": 164,
        "width": 12
       }
      }
     }
    }
   },
   "outputs": [],
   "source": [
    "df_constructors_result.rename(columns={\"name_x\": \"constructor_name\", \"name_y\": \"race_name\"}, inplace=True)"
   ]
  },
  {
   "cell_type": "code",
   "execution_count": null,
   "id": "1b3de038",
   "metadata": {
    "extensions": {
     "jupyter_dashboards": {
      "version": 1,
      "views": {
       "default_view": {
        "col": 0,
        "height": 2,
        "row": 166,
        "width": 12
       }
      }
     }
    }
   },
   "outputs": [],
   "source": [
    "# get performance for Ferrari from 2016-2021 (last 5 years)\n",
    "df_ferrari = df_constructors_result[df_constructors_result['constructor_name'] == 'Ferrari']\n",
    "df_ferrari_5years = df_ferrari[df_ferrari['year'].isin(list(range(2016, 2022)))]"
   ]
  },
  {
   "cell_type": "code",
   "execution_count": null,
   "id": "56d2fb9f",
   "metadata": {
    "extensions": {
     "jupyter_dashboards": {
      "version": 1,
      "views": {
       "default_view": {
        "col": 0,
        "height": 2,
        "row": 168,
        "width": 12
       }
      }
     }
    }
   },
   "outputs": [],
   "source": [
    "df_ferrari_5years_points = df_ferrari_5years.groupby(\"year\")[\"points\"].sum()"
   ]
  },
  {
   "cell_type": "code",
   "execution_count": null,
   "id": "ceb10e8a",
   "metadata": {
    "extensions": {
     "jupyter_dashboards": {
      "version": 1,
      "views": {
       "default_view": {
        "col": 0,
        "height": 2,
        "row": 170,
        "width": 12
       }
      }
     }
    }
   },
   "outputs": [],
   "source": [
    "year = []\n",
    "points = []\n",
    "for k, v in df_ferrari_5years_points.items():\n",
    "    year.append(k)\n",
    "    points.append(v)"
   ]
  },
  {
   "cell_type": "code",
   "execution_count": null,
   "id": "724153bd",
   "metadata": {
    "extensions": {
     "jupyter_dashboards": {
      "version": 1,
      "views": {
       "default_view": {
        "col": 0,
        "height": 2,
        "row": 172,
        "width": 12
       }
      }
     }
    }
   },
   "outputs": [],
   "source": [
    "plt.bar(year, points)\n",
    "plt.title(\"Ferrari's Performance 2016-2021\")\n",
    "plt.xlabel(\"Year\")\n",
    "plt.ylabel(\"Constructor Points\")\n",
    "\n",
    "# it was found that constructor standings had the points added after every race\n",
    "# constructors results had the points gained during each race, which was then added up \n",
    "# to get total points for a season"
   ]
  },
  {
   "cell_type": "code",
   "execution_count": null,
   "id": "53274263",
   "metadata": {
    "extensions": {
     "jupyter_dashboards": {
      "version": 1,
      "views": {
       "default_view": {
        "col": 0,
        "height": 2,
        "row": 174,
        "width": 12
       }
      }
     }
    }
   },
   "outputs": [],
   "source": [
    "# exploring qualifying.csv and pit_stops.csv\n",
    "df_qualifying = pd.read_csv(os.path.join(data_path, \"qualifying.csv\"))\n",
    "df_pit_stops = pd.read_csv(os.path.join(data_path, \"pit_stops.csv\")) "
   ]
  },
  {
   "cell_type": "code",
   "execution_count": null,
   "id": "881ed1f1",
   "metadata": {
    "extensions": {
     "jupyter_dashboards": {
      "version": 1,
      "views": {
       "default_view": {
        "col": 0,
        "height": 2,
        "row": 176,
        "width": 12
       }
      }
     }
    }
   },
   "outputs": [],
   "source": [
    "df_pit_stops.head()"
   ]
  },
  {
   "cell_type": "code",
   "execution_count": null,
   "id": "16b359de",
   "metadata": {
    "extensions": {
     "jupyter_dashboards": {
      "version": 1,
      "views": {
       "default_view": {
        "col": 0,
        "height": 2,
        "row": 178,
        "width": 12
       }
      }
     }
    }
   },
   "outputs": [],
   "source": [
    "df_qualifying.head()"
   ]
  },
  {
   "cell_type": "code",
   "execution_count": null,
   "id": "61cbe34b",
   "metadata": {
    "extensions": {
     "jupyter_dashboards": {
      "version": 1,
      "views": {
       "default_view": {
        "col": 0,
        "height": 2,
        "row": 180,
        "width": 12
       }
      }
     }
    }
   },
   "outputs": [],
   "source": [
    "# get lap times for Lewis Hamilton at the Australian Grand Prix for Q1-Q3 for years 2015-2019\n",
    "# merge race name, driver name with qualifying\n",
    "df_qualifying = df_qualifying.merge(df_races[[\"raceId\", \"name\", \"year\"]], on=\"raceId\")\n",
    "df_qualifying = df_qualifying.merge(df_drivers[[\"driverId\", \"full_name\"]], on=\"driverId\")"
   ]
  },
  {
   "cell_type": "code",
   "execution_count": null,
   "id": "10efeb12",
   "metadata": {
    "extensions": {
     "jupyter_dashboards": {
      "version": 1,
      "views": {
       "default_view": {
        "col": 0,
        "height": 2,
        "row": 182,
        "width": 12
       }
      }
     }
    }
   },
   "outputs": [],
   "source": [
    "df_qualifying.head()"
   ]
  },
  {
   "cell_type": "code",
   "execution_count": null,
   "id": "ce9ca525",
   "metadata": {
    "extensions": {
     "jupyter_dashboards": {
      "version": 1,
      "views": {
       "default_view": {
        "col": 0,
        "height": 2,
        "row": 184,
        "width": 12
       }
      }
     }
    }
   },
   "outputs": [],
   "source": [
    "# filter out australian grand prix\n",
    "df_qualifying_au = df_qualifying[df_qualifying['name'] == 'Australian Grand Prix']\n",
    "\n",
    "#filter out years 2015-2019\n",
    "df_qualifying_au = df_qualifying_au[df_qualifying_au['year'].isin(list(range(2015,2020)))]"
   ]
  },
  {
   "cell_type": "code",
   "execution_count": null,
   "id": "f9d8214f",
   "metadata": {
    "extensions": {
     "jupyter_dashboards": {
      "version": 1,
      "views": {
       "default_view": {
        "col": 0,
        "height": 2,
        "row": 186,
        "width": 12
       }
      }
     }
    }
   },
   "outputs": [],
   "source": [
    "df_qualifying_au_hamilton = df_qualifying_au[df_qualifying_au['full_name'] == \"Lewis Hamilton\"]"
   ]
  },
  {
   "cell_type": "code",
   "execution_count": null,
   "id": "aeb46e77",
   "metadata": {
    "extensions": {
     "jupyter_dashboards": {
      "version": 1,
      "views": {
       "default_view": {
        "col": 0,
        "height": 2,
        "row": 188,
        "width": 12
       }
      }
     }
    }
   },
   "outputs": [],
   "source": [
    "df_qualifying_au_hamilton.head()"
   ]
  },
  {
   "cell_type": "code",
   "execution_count": null,
   "id": "0cc249c5",
   "metadata": {
    "extensions": {
     "jupyter_dashboards": {
      "version": 1,
      "views": {
       "default_view": {
        "col": 0,
        "height": 2,
        "row": 190,
        "width": 12
       }
      }
     }
    }
   },
   "outputs": [],
   "source": [
    "df_qualifying_au_hamilton['q1'] = df_qualifying_au_hamilton['q1'].apply(lambda x: datetime.strptime(x, '%M:%S.%f'))\n",
    "df_qualifying_au_hamilton['q2'] = df_qualifying_au_hamilton['q2'].apply(lambda x: datetime.strptime(x, '%M:%S.%f'))\n",
    "df_qualifying_au_hamilton['q3'] = df_qualifying_au_hamilton['q3'].apply(lambda x: datetime.strptime(x, '%M:%S.%f'))"
   ]
  },
  {
   "cell_type": "code",
   "execution_count": null,
   "id": "4262eb06",
   "metadata": {
    "extensions": {
     "jupyter_dashboards": {
      "version": 1,
      "views": {
       "default_view": {
        "col": 0,
        "height": 2,
        "row": 192,
        "width": 12
       }
      }
     }
    }
   },
   "outputs": [],
   "source": [
    "# create bar chart\n",
    "fig, ax = plt.subplots(dpi=100)\n",
    "ax.plot(df_qualifying_au_hamilton['year'], df_qualifying_au_hamilton['q1'], label='q1')\n",
    "ax.plot(df_qualifying_au_hamilton['year'], df_qualifying_au_hamilton['q2'], label='q2')\n",
    "ax.plot(df_qualifying_au_hamilton['year'], df_qualifying_au_hamilton['q3'], label='q3')\n",
    "ax.set_xticks(df_qualifying_au_hamilton['year']);\n",
    "ax.set_xlabel(\"Year\")\n",
    "ax.set_ylabel(\"Lap Times HH:MM:SS\")\n",
    "ax.set_title(\"Lewis Hamilton: Qualifying Lap Times at the Australian Grand Prix\")\n",
    "ax.legend();"
   ]
  },
  {
   "cell_type": "code",
   "execution_count": null,
   "id": "6e12b5b4",
   "metadata": {
    "extensions": {
     "jupyter_dashboards": {
      "version": 1,
      "views": {
       "default_view": {
        "hidden": true
       }
      }
     }
    }
   },
   "outputs": [],
   "source": []
  },
  {
   "cell_type": "code",
   "execution_count": null,
   "id": "3ef9a8cf",
   "metadata": {
    "extensions": {
     "jupyter_dashboards": {
      "version": 1,
      "views": {
       "default_view": {
        "hidden": true
       }
      }
     }
    }
   },
   "outputs": [],
   "source": []
  }
 ],
 "metadata": {
  "extensions": {
   "jupyter_dashboards": {
    "activeView": "default_view",
    "version": 1,
    "views": {
     "default_view": {
      "cellMargin": 10,
      "defaultCellHeight": 40,
      "maxColumns": 12,
      "name": "active_view",
      "type": "grid"
     }
    }
   }
  },
  "kernelspec": {
   "display_name": "Python 3 (ipykernel)",
   "language": "python",
   "name": "python3"
  },
  "language_info": {
   "codemirror_mode": {
    "name": "ipython",
    "version": 3
   },
   "file_extension": ".py",
   "mimetype": "text/x-python",
   "name": "python",
   "nbconvert_exporter": "python",
   "pygments_lexer": "ipython3",
   "version": "3.9.7"
  }
 },
 "nbformat": 4,
 "nbformat_minor": 5
}
